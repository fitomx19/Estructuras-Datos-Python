{
 "cells": [
  {
   "cell_type": "markdown",
   "metadata": {},
   "source": [
    "Practica con nodos, aun no la termino. "
   ]
  },
  {
   "cell_type": "code",
   "execution_count": 1,
   "metadata": {},
   "outputs": [],
   "source": [
    "class Nodo(object):\n",
    "    info,sig = None,None"
   ]
  },
  {
   "cell_type": "code",
   "execution_count": 2,
   "metadata": {},
   "outputs": [
    {
     "name": "stdout",
     "output_type": "stream",
     "text": [
      "Primer nodo\n",
      "mexico\n",
      "mexico2\n"
     ]
    }
   ],
   "source": [
    "aux = Nodo()\n",
    "aux.info = \"Primer nodo\"\n",
    "palabra = input(\"Ingrese una palabra: \")\n",
    "naux = aux\n",
    "while(palabra != \"\"):\n",
    "    nodo = Nodo()\n",
    "    nodo.info = palabra\n",
    "    naux.sig = nodo\n",
    "    naux = nodo\n",
    "    palabra = input('Ingrese una palabra: ')\n",
    "while(aux is not None):\n",
    "    print(aux.info)\n",
    "    aux = aux.sig"
   ]
  }
 ],
 "metadata": {
  "interpreter": {
   "hash": "12e7b2db913c7cced4d5bf71ce365c438f2053887e824f813caa9208ccef4b13"
  },
  "kernelspec": {
   "display_name": "Python 3.8.8 64-bit ('base': conda)",
   "language": "python",
   "name": "python3"
  },
  "language_info": {
   "codemirror_mode": {
    "name": "ipython",
    "version": 3
   },
   "file_extension": ".py",
   "mimetype": "text/x-python",
   "name": "python",
   "nbconvert_exporter": "python",
   "pygments_lexer": "ipython3",
   "version": "3.9.7"
  },
  "orig_nbformat": 4
 },
 "nbformat": 4,
 "nbformat_minor": 2
}
