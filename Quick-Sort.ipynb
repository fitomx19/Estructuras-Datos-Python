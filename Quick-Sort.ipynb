{
 "cells": [
  {
   "cell_type": "markdown",
   "metadata": {},
   "source": [
    "Quick Sort      \n",
    "\n",
    "Este es uno de los mejores algoritmos de ordenamiento recursivo que existen "
   ]
  },
  {
   "cell_type": "code",
   "execution_count": 42,
   "metadata": {},
   "outputs": [],
   "source": [
    "def quicksort(arreglo, izquierda, derecha):\n",
    "    if izquierda < derecha:\n",
    "        indiceParticion = particion(arreglo, izquierda, derecha)\n",
    "        quicksort(arreglo, izquierda, indiceParticion)\n",
    "        quicksort(arreglo, indiceParticion + 1, derecha)"
   ]
  },
  {
   "cell_type": "code",
   "execution_count": 43,
   "metadata": {},
   "outputs": [],
   "source": [
    "def particion(arreglo, izquierda, derecha):\n",
    "    pivote = arreglo[izquierda]\n",
    "    while True:\n",
    "        # Mientras cada elemento desde la izquierda esté en orden (sea menor que el\n",
    "        # pivote) continúa avanzando el índice\n",
    "        while arreglo[izquierda] < pivote:\n",
    "            izquierda += 1\n",
    "\n",
    "        # Mientras cada elemento desde la derecha esté en orden (sea mayor que el\n",
    "        # pivote) continúa disminuyendo el índice\n",
    "        while arreglo[derecha] > pivote:\n",
    "            derecha -= 1\n",
    "\n",
    "        \"\"\"\n",
    "            Si la izquierda es mayor o igual que la derecha significa que no\n",
    "            necesitamos hacer ningún intercambio\n",
    "            de variables, pues los elementos ya están en orden (al menos en esta\n",
    "            iteración)\n",
    "        \"\"\"\n",
    "        if izquierda >= derecha:\n",
    "            # Indicar \"en dónde nos quedamos\" para poder dividir el arreglo de nuevo\n",
    "            # y ordenar los demás elementos\n",
    "            return derecha\n",
    "        else:\n",
    "            # Nota: yo sé que el else no hace falta por el return de arriba, pero así el algoritmo es más claro\n",
    "            \"\"\"\n",
    "                Si las variables quedaron \"lejos\" (es decir, la izquierda no superó ni\n",
    "                alcanzó a la derecha)\n",
    "                significa que se detuvieron porque encontraron un valor que no estaba\n",
    "                en orden, así que lo intercambiamos\n",
    "            \"\"\"\n",
    "            arreglo[izquierda], arreglo[derecha] = arreglo[derecha], arreglo[izquierda]\n",
    "            \"\"\"\n",
    "                Ya intercambiamos, pero seguimos avanzando los índices\n",
    "            \"\"\"\n",
    "            izquierda += 1\n",
    "            derecha -= 1\n"
   ]
  },
  {
   "cell_type": "code",
   "execution_count": 44,
   "metadata": {},
   "outputs": [],
   "source": [
    "arreglo = [5, 1, 2, 1, 1, 3, 5, 1, 5, 1, 99, 231, 234, 12, 121,\n",
    "           312, 123, 123, 12, 312, 321, 312, 31, 23, 12, 3123, 123, ]"
   ]
  },
  {
   "cell_type": "code",
   "execution_count": 45,
   "metadata": {},
   "outputs": [
    {
     "name": "stdout",
     "output_type": "stream",
     "text": [
      "Antes de ordenarlo: \n",
      "[5, 1, 2, 1, 1, 3, 5, 1, 5, 1, 99, 231, 234, 12, 121, 312, 123, 123, 12, 312, 321, 312, 31, 23, 12, 3123, 123]\n"
     ]
    }
   ],
   "source": [
    "print(\"Antes de ordenarlo: \")\n",
    "print(arreglo)\n",
    "quicksort(arreglo, 0, len(arreglo) - 1)\n"
   ]
  },
  {
   "cell_type": "code",
   "execution_count": 46,
   "metadata": {},
   "outputs": [
    {
     "name": "stdout",
     "output_type": "stream",
     "text": [
      "Después de ordenarlo: \n",
      "[1, 1, 1, 1, 1, 2, 3, 5, 5, 5, 12, 12, 12, 23, 31, 99, 121, 123, 123, 123, 231, 234, 312, 312, 312, 321, 3123]\n"
     ]
    }
   ],
   "source": [
    "print(\"Después de ordenarlo: \")\n",
    "print(arreglo)"
   ]
  }
 ],
 "metadata": {
  "interpreter": {
   "hash": "12e7b2db913c7cced4d5bf71ce365c438f2053887e824f813caa9208ccef4b13"
  },
  "kernelspec": {
   "display_name": "Python 3.8.8 64-bit ('base': conda)",
   "name": "python3"
  },
  "language_info": {
   "codemirror_mode": {
    "name": "ipython",
    "version": 3
   },
   "file_extension": ".py",
   "mimetype": "text/x-python",
   "name": "python",
   "nbconvert_exporter": "python",
   "pygments_lexer": "ipython3",
   "version": "3.8.8"
  },
  "orig_nbformat": 4
 },
 "nbformat": 4,
 "nbformat_minor": 2
}
