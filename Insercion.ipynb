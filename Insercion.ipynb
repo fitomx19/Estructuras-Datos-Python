{
 "cells": [
  {
   "cell_type": "markdown",
   "metadata": {},
   "source": [
    "Algoritmo de insercion"
   ]
  },
  {
   "cell_type": "code",
   "execution_count": 11,
   "metadata": {},
   "outputs": [],
   "source": [
    "def insercion(lista):\n",
    "    for i in range(1, len(lista)+1):\n",
    "        k = i-1\n",
    "        while (k>0) and (lista[k] < lista[k-1]):\n",
    "            lista[k], lista[k-1] = lista[k-1], lista[k]\n",
    "            k -= 1\n",
    "            print(lista)"
   ]
  },
  {
   "cell_type": "code",
   "execution_count": 12,
   "metadata": {},
   "outputs": [
    {
     "name": "stdout",
     "output_type": "stream",
     "text": [
      "[1, 2, 6, 4, 9, 5, 7, 0]\n",
      "[1, 2, 4, 6, 9, 5, 7, 0]\n",
      "[1, 2, 4, 6, 5, 9, 7, 0]\n",
      "[1, 2, 4, 5, 6, 9, 7, 0]\n",
      "[1, 2, 4, 5, 6, 7, 9, 0]\n",
      "[1, 2, 4, 5, 6, 7, 0, 9]\n",
      "[1, 2, 4, 5, 6, 0, 7, 9]\n",
      "[1, 2, 4, 5, 0, 6, 7, 9]\n",
      "[1, 2, 4, 0, 5, 6, 7, 9]\n",
      "[1, 2, 0, 4, 5, 6, 7, 9]\n",
      "[1, 0, 2, 4, 5, 6, 7, 9]\n",
      "[0, 1, 2, 4, 5, 6, 7, 9]\n"
     ]
    }
   ],
   "source": [
    "insercion([2,1,6,4,9,5,7,0])"
   ]
  }
 ],
 "metadata": {
  "interpreter": {
   "hash": "12e7b2db913c7cced4d5bf71ce365c438f2053887e824f813caa9208ccef4b13"
  },
  "kernelspec": {
   "display_name": "Python 3.8.8 64-bit ('base': conda)",
   "name": "python3"
  },
  "language_info": {
   "codemirror_mode": {
    "name": "ipython",
    "version": 3
   },
   "file_extension": ".py",
   "mimetype": "text/x-python",
   "name": "python",
   "nbconvert_exporter": "python",
   "pygments_lexer": "ipython3",
   "version": "3.8.8"
  },
  "orig_nbformat": 4
 },
 "nbformat": 4,
 "nbformat_minor": 2
}
