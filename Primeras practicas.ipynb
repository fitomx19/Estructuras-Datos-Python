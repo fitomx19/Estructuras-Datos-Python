{
 "cells": [
  {
   "cell_type": "markdown",
   "id": "20663574",
   "metadata": {},
   "source": [
    "Ejercicios primera parte de el libro de estructuras y algoritmos de datos"
   ]
  },
  {
   "cell_type": "markdown",
   "id": "61e2831e",
   "metadata": {},
   "source": [
    "Factorial Recursivo"
   ]
  },
  {
   "cell_type": "code",
   "execution_count": 1,
   "id": "58055df4",
   "metadata": {},
   "outputs": [],
   "source": [
    "def factorial(numero):\n",
    "    if(numero == 0):\n",
    "        return 1\n",
    "    else:\n",
    "        return numero * factorial(numero-1)"
   ]
  },
  {
   "cell_type": "code",
   "execution_count": 4,
   "id": "113ce879",
   "metadata": {},
   "outputs": [
    {
     "data": {
      "text/plain": [
       "544344939077443064003729240247842752644293064388798874532860126869671081148416000000000000000"
      ]
     },
     "execution_count": 4,
     "metadata": {},
     "output_type": "execute_result"
    }
   ],
   "source": [
    "factorial(66)"
   ]
  },
  {
   "cell_type": "markdown",
   "id": "1b7a3e5a",
   "metadata": {},
   "source": [
    "Fibonacci Recursivo"
   ]
  },
  {
   "cell_type": "code",
   "execution_count": 5,
   "id": "b49a32dd",
   "metadata": {},
   "outputs": [],
   "source": [
    "def fibonacci(n):\n",
    "    if(n==0 or n == 1):\n",
    "        return n\n",
    "    else:\n",
    "        return fibonacci(n-1) + fibonacci(n-2)"
   ]
  },
  {
   "cell_type": "code",
   "execution_count": 6,
   "id": "fc85f3df",
   "metadata": {},
   "outputs": [
    {
     "data": {
      "text/plain": [
       "39088169"
      ]
     },
     "execution_count": 6,
     "metadata": {},
     "output_type": "execute_result"
    }
   ],
   "source": [
    "fibonacci(38)"
   ]
  },
  {
   "cell_type": "code",
   "execution_count": null,
   "id": "daa3465b",
   "metadata": {},
   "outputs": [],
   "source": []
  }
 ],
 "metadata": {
  "interpreter": {
   "hash": "31f2aee4e71d21fbe5cf8b01ff0e069b9275f58929596ceb00d14d90e3e16cd6"
  },
  "kernelspec": {
   "display_name": "Python 3.8.9 64-bit",
   "name": "python3"
  },
  "language_info": {
   "codemirror_mode": {
    "name": "ipython",
    "version": 3
   },
   "file_extension": ".py",
   "mimetype": "text/x-python",
   "name": "python",
   "nbconvert_exporter": "python",
   "pygments_lexer": "ipython3",
   "version": "3.8.9"
  }
 },
 "nbformat": 4,
 "nbformat_minor": 5
}
