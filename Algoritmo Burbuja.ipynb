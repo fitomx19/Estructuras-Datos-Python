{
 "cells": [
  {
   "cell_type": "markdown",
   "metadata": {},
   "source": [
    "Codigo burbuja"
   ]
  },
  {
   "cell_type": "code",
   "execution_count": 8,
   "metadata": {},
   "outputs": [],
   "source": [
    "def burbuja(lista): \n",
    "    \n",
    "    for i in range(0, len(lista)-1):\n",
    "        for j in range(0, len(lista)-i-1):\n",
    "            if(lista[j] > lista[j+1]):\n",
    "                lista[j], lista[j+1] = lista[j+1], lista[j]\n",
    "    \n",
    "                print(lista)"
   ]
  },
  {
   "cell_type": "code",
   "execution_count": 9,
   "metadata": {},
   "outputs": [
    {
     "name": "stdout",
     "output_type": "stream",
     "text": [
      "[3, 8, 6, 7, 4, 2, 6, 8, 34, 12, 34, 43, 12]\n",
      "[3, 6, 8, 7, 4, 2, 6, 8, 34, 12, 34, 43, 12]\n",
      "[3, 6, 7, 8, 4, 2, 6, 8, 34, 12, 34, 43, 12]\n",
      "[3, 6, 7, 4, 8, 2, 6, 8, 34, 12, 34, 43, 12]\n",
      "[3, 6, 7, 4, 2, 8, 6, 8, 34, 12, 34, 43, 12]\n",
      "[3, 6, 7, 4, 2, 6, 8, 8, 34, 12, 34, 43, 12]\n",
      "[3, 6, 7, 4, 2, 6, 8, 8, 12, 34, 34, 43, 12]\n",
      "[3, 6, 7, 4, 2, 6, 8, 8, 12, 34, 34, 12, 43]\n",
      "[3, 6, 4, 7, 2, 6, 8, 8, 12, 34, 34, 12, 43]\n",
      "[3, 6, 4, 2, 7, 6, 8, 8, 12, 34, 34, 12, 43]\n",
      "[3, 6, 4, 2, 6, 7, 8, 8, 12, 34, 34, 12, 43]\n",
      "[3, 6, 4, 2, 6, 7, 8, 8, 12, 34, 12, 34, 43]\n",
      "[3, 4, 6, 2, 6, 7, 8, 8, 12, 34, 12, 34, 43]\n",
      "[3, 4, 2, 6, 6, 7, 8, 8, 12, 34, 12, 34, 43]\n",
      "[3, 4, 2, 6, 6, 7, 8, 8, 12, 12, 34, 34, 43]\n",
      "[3, 2, 4, 6, 6, 7, 8, 8, 12, 12, 34, 34, 43]\n",
      "[2, 3, 4, 6, 6, 7, 8, 8, 12, 12, 34, 34, 43]\n"
     ]
    }
   ],
   "source": [
    "burbuja([8,3,6,7,4,2,6,8,34,12,34,43,12])"
   ]
  },
  {
   "cell_type": "markdown",
   "metadata": {},
   "source": [
    "Algoritmo Burbuja Mejorado"
   ]
  },
  {
   "cell_type": "code",
   "execution_count": 10,
   "metadata": {},
   "outputs": [],
   "source": [
    "def BurbujaMejorada(lista):\n",
    "    i = 0\n",
    "    control = True\n",
    "    while (i <= len(lista)-2) and control:\n",
    "        control = False\n",
    "        for j in range(0, len(lista)-i-1):\n",
    "            if(lista[j] > lista[j+1]):\n",
    "                lista[j], lista[j+1] = lista[j+1], lista[j]\n",
    "                control = True\n",
    "        i += 1\n",
    "        print(lista)"
   ]
  },
  {
   "cell_type": "code",
   "execution_count": 11,
   "metadata": {},
   "outputs": [
    {
     "name": "stdout",
     "output_type": "stream",
     "text": [
      "[1, 2, 3, 4, 5, 6, 4, 2, 7]\n",
      "[1, 2, 3, 4, 5, 4, 2, 6, 7]\n",
      "[1, 2, 3, 4, 4, 2, 5, 6, 7]\n",
      "[1, 2, 3, 4, 2, 4, 5, 6, 7]\n",
      "[1, 2, 3, 2, 4, 4, 5, 6, 7]\n",
      "[1, 2, 2, 3, 4, 4, 5, 6, 7]\n",
      "[1, 2, 2, 3, 4, 4, 5, 6, 7]\n"
     ]
    }
   ],
   "source": [
    "BurbujaMejorada([1,2,6,3,4,5,7,4,2])"
   ]
  },
  {
   "cell_type": "code",
   "execution_count": 12,
   "metadata": {},
   "outputs": [
    {
     "name": "stdout",
     "output_type": "stream",
     "text": [
      "[1, 2, 3, 4, 5, 6, 7, 8]\n"
     ]
    }
   ],
   "source": [
    "BurbujaMejorada([1,2,3,4,5,6,7,8])"
   ]
  },
  {
   "cell_type": "markdown",
   "metadata": {},
   "source": [
    "Burbuja Bidireccional"
   ]
  },
  {
   "cell_type": "code",
   "execution_count": 13,
   "metadata": {},
   "outputs": [],
   "source": [
    "def coctel(lista): \n",
    "    izquierda = 0\n",
    "    derecha = len(lista)-1\n",
    "    control = True\n",
    "    while(izquierda < derecha) and control:\n",
    "        control = False\n",
    "        for i in range(izquierda, derecha):\n",
    "            if(lista[i] > lista[i+1]):\n",
    "                control = True\n",
    "                lista[i], lista[i+1] = lista[i+1], lista[i]\n",
    "                derecha -= 1\n",
    "                for j in range(derecha, izquierda , -1):\n",
    "                    if(lista[j] < lista[j-1]):\n",
    "                        control = True\n",
    "                        lista[j], lista[j-1] = lista[j-1] , lista[j]\n",
    "                izquierda += 1\n",
    "\n",
    "                print(lista)"
   ]
  },
  {
   "cell_type": "code",
   "execution_count": 14,
   "metadata": {},
   "outputs": [
    {
     "name": "stdout",
     "output_type": "stream",
     "text": [
      "[0, 2, 2, 6, 4, 9, 8, 9, 4, 8]\n",
      "[0, 2, 2, 4, 6, 8, 9, 9, 4, 8]\n",
      "[0, 2, 2, 4, 6, 8, 9, 4, 9, 8]\n",
      "[0, 2, 2, 4, 6, 8, 9, 4, 8, 9]\n"
     ]
    }
   ],
   "source": [
    "coctel([0,6,2,4,9,8,9,4,2,8])"
   ]
  }
 ],
 "metadata": {
  "interpreter": {
   "hash": "12e7b2db913c7cced4d5bf71ce365c438f2053887e824f813caa9208ccef4b13"
  },
  "kernelspec": {
   "display_name": "Python 3.8.8 64-bit ('base': conda)",
   "name": "python3"
  },
  "language_info": {
   "codemirror_mode": {
    "name": "ipython",
    "version": 3
   },
   "file_extension": ".py",
   "mimetype": "text/x-python",
   "name": "python",
   "nbconvert_exporter": "python",
   "pygments_lexer": "ipython3",
   "version": "3.8.8"
  },
  "orig_nbformat": 4
 },
 "nbformat": 4,
 "nbformat_minor": 2
}
