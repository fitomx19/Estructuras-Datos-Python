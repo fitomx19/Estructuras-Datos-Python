{
 "cells": [
  {
   "cell_type": "markdown",
   "metadata": {},
   "source": [
    "variables estaticas"
   ]
  },
  {
   "cell_type": "code",
   "execution_count": 1,
   "metadata": {},
   "outputs": [
    {
     "name": "stdout",
     "output_type": "stream",
     "text": [
      "valor num1 1 valor num2 4\n"
     ]
    }
   ],
   "source": [
    "num1 = 1\n",
    "num2 = num1\n",
    "num2 = num2 +3\n",
    "print(\"valor num1\", num1 , \"valor num2\", num2)"
   ]
  },
  {
   "cell_type": "markdown",
   "metadata": {},
   "source": [
    "variables dinamicas"
   ]
  },
  {
   "cell_type": "code",
   "execution_count": 2,
   "metadata": {},
   "outputs": [
    {
     "name": "stdout",
     "output_type": "stream",
     "text": [
      "valor lista1 [1, 7, 3, 87] valor lista2 [1, 7, 3, 87]\n"
     ]
    }
   ],
   "source": [
    "lista1 = [1,2,3]\n",
    "lista2 = lista1\n",
    "lista2[1] = 7\n",
    "lista2.append(87)\n",
    "print(\"valor lista1\",lista1 , \"valor lista2\" , lista2)"
   ]
  },
  {
   "cell_type": "markdown",
   "metadata": {},
   "source": [
    "punteros"
   ]
  },
  {
   "cell_type": "code",
   "execution_count": 3,
   "metadata": {},
   "outputs": [
    {
     "name": "stdout",
     "output_type": "stream",
     "text": [
      "apuntan ala misma variable dinamica\n",
      "apuntan ala misma variable dinamica\n"
     ]
    }
   ],
   "source": [
    "puntero1 = [0,1]\n",
    "puntero2 = [0,1]\n",
    "if(puntero1 == puntero2):\n",
    "    print(\"apuntan ala misma variable dinamica\")\n",
    "else:\n",
    "    print(\"apuntan diferente variable dinamica\")\n",
    "\n",
    "puntero2 = {}\n",
    "puntero1 = puntero2\n",
    "\n",
    "if(puntero1 == puntero2):\n",
    "    print(\"apuntan ala misma variable dinamica\")\n",
    "else:\n",
    "    print(\"apuntan diferente variable dinamica\")"
   ]
  },
  {
   "cell_type": "markdown",
   "metadata": {},
   "source": [
    "nodos"
   ]
  },
  {
   "cell_type": "code",
   "execution_count": 4,
   "metadata": {},
   "outputs": [],
   "source": [
    "class Nodo(object):\n",
    "    info,sig = None,None"
   ]
  }
 ],
 "metadata": {
  "interpreter": {
   "hash": "12e7b2db913c7cced4d5bf71ce365c438f2053887e824f813caa9208ccef4b13"
  },
  "kernelspec": {
   "display_name": "Python 3.8.8 64-bit ('base': conda)",
   "language": "python",
   "name": "python3"
  },
  "language_info": {
   "codemirror_mode": {
    "name": "ipython",
    "version": 3
   },
   "file_extension": ".py",
   "mimetype": "text/x-python",
   "name": "python",
   "nbconvert_exporter": "python",
   "pygments_lexer": "ipython3",
   "version": "3.8.8"
  },
  "orig_nbformat": 4
 },
 "nbformat": 4,
 "nbformat_minor": 2
}
