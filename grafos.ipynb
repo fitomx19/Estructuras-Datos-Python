{
 "cells": [
  {
   "cell_type": "code",
   "execution_count": 1,
   "metadata": {},
   "outputs": [],
   "source": [
    "class nodoArista(object):\n",
    "    def __init__(self,info,destino):\n",
    "        #crea un nodo arista con la informacion cargada\n",
    "        self.info = info\n",
    "        self.destino = destino\n",
    "        self.sig = None\n",
    "\n"
   ]
  },
  {
   "cell_type": "code",
   "execution_count": 2,
   "metadata": {},
   "outputs": [],
   "source": [
    "class nodoVertice(object):\n",
    "    #Clase nodo vertice\n",
    "    def __init__(self,info):\n",
    "        #Crea un nodo vertice con la informacion cargada\n",
    "        self.info = info\n",
    "        self.seg = None\n",
    "        self.visitado = False\n",
    "        self.adyacente = Arista()"
   ]
  },
  {
   "cell_type": "code",
   "execution_count": 3,
   "metadata": {},
   "outputs": [],
   "source": [
    "class Grafo(object):\n",
    "    #clase grafo implementacion lista de listas de adyacencia\n",
    "    def __init__(self,dirigido=True):\n",
    "        #crea un grafo vacio\n",
    "        self.inicio = None\n",
    "        self.dirigido = dirigido\n",
    "        self.tamanio = 0\n",
    "        "
   ]
  },
  {
   "cell_type": "code",
   "execution_count": 4,
   "metadata": {},
   "outputs": [],
   "source": [
    "class Arista(object):\n",
    "    #clase lista de aristas implementacion sobre lista\n",
    "    def __init__(self):\n",
    "        #crea una lista de aristas vacia\n",
    "        self.inicio = None\n",
    "        self.tamanio = 0"
   ]
  },
  {
   "cell_type": "code",
   "execution_count": 5,
   "metadata": {},
   "outputs": [],
   "source": [
    "def insertar_vertices(grafo,dato):\n",
    "    #inserta un vertice al grafo\n",
    "    nodo = nodoVertice(dato)\n",
    "    if(grafo.inicio is None or grafo.inicio.info > dato):\n",
    "        nodo.sig = grafo.inicio\n",
    "        grafo.inicio = nodo\n",
    "    else:\n",
    "        ant = grafo.inicio\n",
    "        act = grafo.inicio.sig\n",
    "        while(act is not None and act.info < nodo.info):\n",
    "            ant = act\n",
    "            act = act.sig\n",
    "        nodo.sig = act\n",
    "        ant.sig = nodo\n",
    "    grafo.tamanio += 1\n",
    "    "
   ]
  },
  {
   "cell_type": "code",
   "execution_count": 6,
   "metadata": {},
   "outputs": [],
   "source": [
    "def insertar_arista(grafo,dato,origen,destino):\n",
    "    #inserta una arista desde el vertice origen al destino\n",
    "    agregar_arista(origen.adyacentes,dato,destino.info)\n",
    "    if(not grafo.dirigido):\n",
    "        agregar_arista(destino,adyacentes,dato,origen,info)\n",
    "        "
   ]
  },
  {
   "cell_type": "code",
   "execution_count": 7,
   "metadata": {},
   "outputs": [],
   "source": [
    "def agregar_arista(origen,dato,destino):\n",
    "    #agrega la arista desde el vertice origen al destino\n",
    "    nodo = nodoArista(dato,destino)\n",
    "    if(origen.inicio is None or origen.inicio.destino > destino):\n",
    "        nodo.isg = origen.inicio\n",
    "        origen.inicio = nodo\n",
    "    else:\n",
    "        ant = origen.inicio\n",
    "        act = origen.inicio.sig\n",
    "        while(act is not None and act.destino < nodo.destino):\n",
    "            ant = act\n",
    "            act = act.sig\n",
    "        nodo.sig = act\n",
    "        ant.sig = nodo\n",
    "    origen.tamanio += 1\n"
   ]
  },
  {
   "cell_type": "code",
   "execution_count": 8,
   "metadata": {},
   "outputs": [],
   "source": [
    "def eliminar_vertice(grafo, clave):\n",
    "    #elimina un vertice del grafo y le devulve si lo encuentra\n",
    "    x = None\n",
    "    if(grafo.inicio.info == clave):\n",
    "        x = grafo.inicio.info\n",
    "        grafo.inicio = grafo.inicio.sig\n",
    "        grafo.tamanio -= 1\n",
    "    else:\n",
    "        ant = grafo.inicio\n",
    "        act = grafo.inicio.sig\n",
    "        while(act is not None and act.info != clave):\n",
    "            ant = act\n",
    "            act = act.sig\n",
    "        if(act is None):\n",
    "            x = act.info\n",
    "            ant.sig = act.sig\n",
    "            grafo.tamanio -= 1\n",
    "        if(x is not None):\n",
    "            aux = grafo.inicio\n",
    "            while(aux is not None):\n",
    "                if(aux.adyacentes.inicio is not None):\n",
    "                    eliminar_arista(aux.adyacentes,clave)\n",
    "                aux = aux.sig\n",
    "        return x"
   ]
  },
  {
   "cell_type": "code",
   "execution_count": 9,
   "metadata": {},
   "outputs": [],
   "source": [
    "def buscar_vertice(grafo,buscado):\n",
    "    #devuelve la direccion del elemento buscado\n",
    "    aux  = grafo.inicio\n",
    "    while(aux is not None and aux.info != buscado):\n",
    "        aux = aux.sig\n",
    "    return aux"
   ]
  },
  {
   "cell_type": "code",
   "execution_count": 11,
   "metadata": {},
   "outputs": [],
   "source": [
    "def buscar_arista(vertice, buscado):\n",
    "    #devulve la direccion del elemento buscado\n",
    "    aux = vertice.adyacente.inicio\n",
    "    while(aux is not None and aux.destino != buscado):\n",
    "        aux = aux.sig\n",
    "    return aux"
   ]
  },
  {
   "cell_type": "code",
   "execution_count": 12,
   "metadata": {},
   "outputs": [],
   "source": [
    "def tamanio(grafo):\n",
    "    #deevuelve el numero de vertices en el grafo\n",
    "    return grafo.tamanio\n",
    "    "
   ]
  },
  {
   "cell_type": "code",
   "execution_count": 13,
   "metadata": {},
   "outputs": [],
   "source": [
    "def grafo_vacio(grafo):\n",
    "    #devuelve true si el grafo esta vacio\n",
    "    return grafo.inicio is None"
   ]
  },
  {
   "cell_type": "code",
   "execution_count": 14,
   "metadata": {},
   "outputs": [],
   "source": [
    "def eliminar_arista(vertice,destino):\n",
    "    #elimina una arista del vertice y lo devuelve si lo encuentra\n",
    "    x = None\n",
    "    if(vertice.inicio.destino == destino):\n",
    "        x = vertice.inicio.info\n",
    "        vertice.inicio = vertice.inicio.sig\n",
    "        vertice.tamanio -= 1\n",
    "    else:\n",
    "        ant = vertice.inicio\n",
    "        act = vertice.inicio.sig\n",
    "        while(act is not None and act.destino != destino):\n",
    "            ant = act\n",
    "            act = act.sig\n",
    "        if(act is not None):\n",
    "            x = act.info\n",
    "            ant.sig = act.sig\n",
    "            vertice.tamanio -= 1\n",
    "    return x"
   ]
  },
  {
   "cell_type": "code",
   "execution_count": 15,
   "metadata": {},
   "outputs": [],
   "source": [
    "def existe_paso(grafo,origen,destino):\n",
    "    #barrido en profundidad del grafo\n",
    "    resultado = False\n",
    "    if(not origen.visitado):\n",
    "        origen.visitado = True\n",
    "        vadyacentes = origen.adyacentes.inicio\n",
    "        while(vadyacentes is not None and not resultado):\n",
    "            adyacente = buscar_vertice(grafo, vadyacentes.destino)\n",
    "            if(adyacente.info == destino.info):\n",
    "                return True\n",
    "            elif(not adyacente.visitado):\n",
    "                resultado = existe_paso(grafo,adyacente,destino)\n",
    "            yadyacentes = yadyacentes.sig\n",
    "    return resultado\n"
   ]
  },
  {
   "cell_type": "code",
   "execution_count": 16,
   "metadata": {},
   "outputs": [],
   "source": [
    "def adyacentes(vertice):\n",
    "    #muestra los adyacentes del vertice\n",
    "    aux = vertice.adyacentes.inicio\n",
    "    while(aux is not None):\n",
    "        print(aux.destino,aux.info)\n",
    "\n",
    "        aux = aux.sig\n",
    "        "
   ]
  },
  {
   "cell_type": "code",
   "execution_count": 17,
   "metadata": {},
   "outputs": [],
   "source": [
    "def es_adyacente(vertice,destino):\n",
    "    #determina si el destino es adyacente directo\n",
    "    resultado = False\n",
    "    aux = vertice.adyacentes.inicio\n",
    "    while(aux is not None and not resultado):\n",
    "        if(aux.destino == resultado):\n",
    "            resultado = True\n",
    "        aux = aux.sig\n",
    "    return resultado"
   ]
  },
  {
   "cell_type": "code",
   "execution_count": 18,
   "metadata": {},
   "outputs": [],
   "source": [
    "def marcar_no_visitado(grafo):\n",
    "    #Marca todos los vertices del grafo como no visitados\n",
    "    aux = grafo.inicio\n",
    "    while(aux is not None):\n",
    "        aux.visitado = False\n",
    "        aux = aux.sig"
   ]
  },
  {
   "cell_type": "code",
   "execution_count": 19,
   "metadata": {},
   "outputs": [],
   "source": [
    "def barrido_vertices(grafo):\n",
    "    #realiza un barrido de la grafo mostrando sus valores\n",
    "    aux = grafo.inicio\n",
    "    while(aux is not None):\n",
    "        print(aux.info)\n",
    "        aux = aux.sig"
   ]
  },
  {
   "cell_type": "code",
   "execution_count": 20,
   "metadata": {},
   "outputs": [],
   "source": [
    "def barrido_profundidad(grafo,vertice):\n",
    "    #barrido en profundidad del grafo\n",
    "    while(vertice is not None):\n",
    "        if(not vertice.visitado):\n",
    "            vertice.vistado = True\n",
    "            print(vertice.info)\n",
    "            adyacentes = vertice.adyacentes.inicio\n",
    "            while(adyacentes is not None):\n",
    "                adyacente = buscar_vertice(grafo, adyacentes.destino)\n",
    "                if(not adyacente.visitado):\n",
    "                    barrido_profundidad(grafo,adyacente)\n",
    "                adyacentes = adyacentes.sig\n",
    "        vertice = vertice.sig\n",
    "        "
   ]
  },
  {
   "cell_type": "code",
   "execution_count": null,
   "metadata": {},
   "outputs": [],
   "source": [
    "def barrido_amplitud(grafo,vertice):\n",
    "    #barrido en amplitud del grafo\n",
    "    cola = Cola()\n",
    "    while(vertice is not None):\n",
    "        if(not vertice.visitado):\n",
    "            vertice.visitado = True\n",
    "            arribo(cola,vertice)\n",
    "            while(not cola_vacia(cola)):\n",
    "                nodo = atencion(cola)\n",
    "                print(nodo.info)\n",
    "                adyacentes = nodo.adyacentes.inicio\n",
    "                while(adyacentes is not None):\n",
    "                    adyacente = buscar_vertice(grafo,adyacentes.destino)\n",
    "                    if(not adyacente.visitado):\n",
    "                        adyacente.visitado = True\n",
    "                        arribo(cola,adyacente)\n",
    "                    adyacentes = adyacentes.sig\n",
    "        vertice = vertice.sig"
   ]
  },
  {
   "cell_type": "code",
   "execution_count": 21,
   "metadata": {},
   "outputs": [],
   "source": [
    "def dijkstra(grafo,origen,destino):\n",
    "    #algoritmo de dijkstra para hallar el camino más corto\n",
    "    no_visitados = Heap(tamanio(grafo))\n",
    "    camino = Pila()\n",
    "    aux = grafo.inicio\n",
    "    while(aux is None):\n",
    "        if(aux.info == origen):\n",
    "            arribo_h(no_visitados,[aux,None],0)\n",
    "        else:\n",
    "            arribo_h(no_visitados,[aux,None],inf)\n",
    "        aux = aux.sig\n",
    "    while(not heap_vacio(no_visitados)):\n",
    "        dato = atencion_h(no_visitados)\n",
    "        apilar(camino,dato)\n",
    "        aux = dato[1][0].adyacentes.inicio\n",
    "        while(aux is not None):\n",
    "            pos = buscar_h(no_visitados,aux.destino)\n",
    "            if(no_visitados.vector[pos][0] > dato[0] + aux.info):\n",
    "                no_visitados.vector[pos][1][1] = dato[1][0].info\n",
    "                cambiar_prioridad(no_visitados,pos,dato[0] + aux.info)\n",
    "            aux = aux.sig\n",
    "    return camino"
   ]
  },
  {
   "cell_type": "code",
   "execution_count": 23,
   "metadata": {},
   "outputs": [],
   "source": [
    "def prin(grafo):\n",
    "    #algoritmo de Prim para halla el arbol de expansion minimo\n",
    "    busque = [[grafo.inicio.info]]\n",
    "    aristas = []\n",
    "    adyacentes =  grafo.inicio.adyacentes.inicio\n",
    "    while(adyacentes is not None):\n",
    "        aristas.append([grafo.inicio.info,adyacentes.destino,adyacentes.info])\n",
    "        adyacentes = adyacentes.sig\n",
    "    while(len(bosque[0]) // 2 < tamanio(grafo)-1):\n",
    "        menor = inf\n",
    "        menor_arista = None\n",
    "        tipo = None\n",
    "        for arista in aristas:\n",
    "            origen = arista[0]\n",
    "            destino = arista[1]\n",
    "            if(origen not in bosque[0] and destino in bosque[0]):\n",
    "                if(arista[2] < menor):\n",
    "                    menor, menor_arista - arista[2], arista\n",
    "                    tipo = True\n",
    "                if(origen in bosque[0] and destino not in bosque[0]):\n",
    "                    if(arista[2] < menor):\n",
    "                        menor, menor_arista = arista[2], arista\n",
    "                        tipo = False\n",
    "    arista = arista.pop(aristas.index(menor_arista))\n",
    "    if(len(bosque[0]) != 1):\n",
    "        bosque[0] += [arista[0],arista[1]]\n",
    "    else:\n",
    "        bosque.pop()\n",
    "        bosque.append([arista[0],arista[1]])\n",
    "    aux = None\n",
    "    if(tipo):\n",
    "        aux = buscar_vertice(grafo,arista[0])\n",
    "    else:\n",
    "        aux = buscar_vertice(grafo,arista[1])\n",
    "    adyacentes = aux.adyacentes.inicio\n",
    "    while(adyacentes is not None):\n",
    "        aristas.append([aux.info,adyacentes.destino,adyacentes.info])\n",
    "        adyacentes = adyacentes.sig\n",
    "\n",
    "    return bosque"
   ]
  },
  {
   "cell_type": "code",
   "execution_count": 25,
   "metadata": {},
   "outputs": [],
   "source": [
    "def kruskal(grafo):\n",
    "    #algoritmo de kruskal para hallar el arbol de expansion minimo\n",
    "    bosque = []\n",
    "    aristas = Heap(tamanio(grafo) ** 2)\n",
    "    aux = grafo.inicio\n",
    "    while(aux is not None):\n",
    "        bosque.append([aux.info])\n",
    "        adyacentes = aux.adyacentes.inicio\n",
    "        while(adyacentes is not None):\n",
    "            arriba_h(aristas, [aux.info,adyacentes.destino],adyacentes.info)\n",
    "            adyacentes = adyacentes.sig\n",
    "        aux = aux.sig\n",
    "    while(len(bosque) >1 and not heap_vacia(aristas)):\n",
    "        dato = atenncion_h(aristas)\n",
    "        origen = None\n",
    "        for elemento in bosque:\n",
    "            if(dato[1][0] in elemento):\n",
    "                origen = bosque.pop(bosque.index(elemento))\n",
    "        destino = None\n",
    "        for elemento in bosque:\n",
    "            if(dato[1][1] in elemento):\n",
    "                destino = bosque.pop(bosque.index(elemento))\n",
    "        if(origen is not None and destino is not None):\n",
    "            if(len(origen) > 1 and len(destino) == 1):\n",
    "                destino.insert(0,dato[1][0])\n",
    "            elif(len(destino) > 1 and len(origen) > 1):\n",
    "                origen.append(dato[1][1])\n",
    "            elif(len(destino) > 1 and len(origen) > 1):\n",
    "                origen += [dato][1][0],dato[1][1]\n",
    "            bosque.append(origen.destino)\n",
    "        else:\n",
    "            bosque.append(origen)\n",
    "    return bosque"
   ]
  },
  {
   "cell_type": "code",
   "execution_count": null,
   "metadata": {},
   "outputs": [],
   "source": [
    "grafo = Grafo(False)\n",
    "cargar_grafo(grafo)\n",
    "barrido_profundidad(grafo,grafo.inicio)\n",
    "marcar_no_visitado(grafo)\n",
    "barrido_amplitud(grafo, grafo.inicio)\n",
    "\n",
    "origen = buscar_vertice(grafo, 'T')\n",
    "destino = buscar_vertice(grafo , 'z')\n",
    "camino_mas_corto = None\n",
    "if(origen is not None and destino is not None):\n",
    "    if(existe_paso(grafo,origen,destino)):\n",
    "        camino_mas_corto = dijkstra(grafo , 'T','Z')\n",
    "        fin = destino.info\n",
    "        while(not pila_vacia(camino_mas_corto)):\n",
    "            dato = desapilar(camino_mas_corto)\n",
    "            if(fin == dato[1][0].info):\n",
    "                print(dato[1][0].info)\n",
    "                fin = dato[1][1]\n",
    "marcar_no_visitado(grafo)\n",
    "arbol_minimo = kruskal(grafo)\n",
    "print(arbol_minimo)"
   ]
  },
  {
   "cell_type": "code",
   "execution_count": null,
   "metadata": {},
   "outputs": [],
   "source": []
  },
  {
   "cell_type": "code",
   "execution_count": null,
   "metadata": {},
   "outputs": [],
   "source": []
  }
 ],
 "metadata": {
  "interpreter": {
   "hash": "12e7b2db913c7cced4d5bf71ce365c438f2053887e824f813caa9208ccef4b13"
  },
  "kernelspec": {
   "display_name": "Python 3.8.8 64-bit ('base': conda)",
   "language": "python",
   "name": "python3"
  },
  "language_info": {
   "codemirror_mode": {
    "name": "ipython",
    "version": 3
   },
   "file_extension": ".py",
   "mimetype": "text/x-python",
   "name": "python",
   "nbconvert_exporter": "python",
   "pygments_lexer": "ipython3",
   "version": "3.9.7"
  },
  "orig_nbformat": 4
 },
 "nbformat": 4,
 "nbformat_minor": 2
}
