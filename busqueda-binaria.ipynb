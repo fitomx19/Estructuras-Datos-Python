{
 "cells": [
  {
   "cell_type": "markdown",
   "metadata": {},
   "source": [
    "busqueda binaria    "
   ]
  },
  {
   "cell_type": "code",
   "execution_count": 4,
   "metadata": {},
   "outputs": [],
   "source": [
    "def binaria(lista, buscado):\n",
    "    posicion = -1\n",
    "    primero = 0\n",
    "    ultimo = len(lista)-1\n",
    "    while(primero <= ultimo) and (posicion == -1):\n",
    "        medio = (primero + ultimo) // 2\n",
    "        if(lista[medio] == buscado):\n",
    "            posicion = medio\n",
    "        else:\n",
    "            if(buscado < lista[medio]):\n",
    "                ultimo = medio-1\n",
    "            else:\n",
    "                primero = medio\n",
    "    return posicion\n"
   ]
  },
  {
   "cell_type": "code",
   "execution_count": 5,
   "metadata": {},
   "outputs": [
    {
     "data": {
      "text/plain": [
       "2"
      ]
     },
     "execution_count": 5,
     "metadata": {},
     "output_type": "execute_result"
    }
   ],
   "source": [
    "binaria([1,2,3,4,5,6,7,8,9,10],3)"
   ]
  }
 ],
 "metadata": {
  "interpreter": {
   "hash": "12e7b2db913c7cced4d5bf71ce365c438f2053887e824f813caa9208ccef4b13"
  },
  "kernelspec": {
   "display_name": "Python 3.8.8 64-bit ('base': conda)",
   "name": "python3"
  },
  "language_info": {
   "codemirror_mode": {
    "name": "ipython",
    "version": 3
   },
   "file_extension": ".py",
   "mimetype": "text/x-python",
   "name": "python",
   "nbconvert_exporter": "python",
   "pygments_lexer": "ipython3",
   "version": "3.8.8"
  },
  "orig_nbformat": 4
 },
 "nbformat": 4,
 "nbformat_minor": 2
}
