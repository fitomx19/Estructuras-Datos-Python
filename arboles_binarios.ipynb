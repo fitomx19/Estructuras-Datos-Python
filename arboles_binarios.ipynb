{
 "cells": [
  {
   "cell_type": "markdown",
   "metadata": {},
   "source": [
    "### Desde la raíz hasta las hojas, entendiendo los árboles desde otro punto de vista"
   ]
  },
  {
   "cell_type": "code",
   "execution_count": null,
   "metadata": {},
   "outputs": [],
   "source": [
    "class nodoArbol(object):\n",
    "\n",
    "    #clase nodo arbol\n",
    "    def __init__(self,info):\n",
    "        self.izq = None\n",
    "        self.der = None\n",
    "        self.info = info"
   ]
  },
  {
   "cell_type": "markdown",
   "metadata": {},
   "source": [
    "Definimos la estructura arbol donde creamos dos nodos, el izq derecho y el informacion que tendra el valor del dato a cargar en el nodo"
   ]
  },
  {
   "cell_type": "code",
   "execution_count": null,
   "metadata": {},
   "outputs": [],
   "source": [
    "def eliminar_nodo(raiz,clave):\n",
    "    x = None\n",
    "    if(raiz is not None):\n",
    "        if(clave < raiz.info):\n",
    "            raiz.izq, x = eliminar_nodo(raiz.izq,clave)\n",
    "        elif(clave > raiz.info):\n",
    "            raiz.der, x = eliminar_nodo(raiz.der,clave)\n",
    "        else:\n",
    "            x = raiz.info\n",
    "            if(raiz.izq is None):\n",
    "                raiz = raiz.der\n",
    "            elif(raiz.der is None):\n",
    "                raiz = raiz.izq\n",
    "            else:\n",
    "                raiz.izq, aux = reemplazar(raiz.izq)\n",
    "                raiz.info = aux.info\n",
    "    return raiz, x     "
   ]
  },
  {
   "cell_type": "code",
   "execution_count": null,
   "metadata": {},
   "outputs": [],
   "source": [
    "def insertar_nodo(raiz,dato):\n",
    "    #insertar dato al nodo\n",
    "    if(raiz is None):\n",
    "        raiz = nodoArbol(dato)\n",
    "    elif(dato < raiz.info):\n",
    "        raiz.izq = insertar_nodo(raiz.izq,dato)\n",
    "    else:\n",
    "        raiz.der = insertar_nodo(raiz.der,dato)\n",
    "    return raiz\n"
   ]
  },
  {
   "cell_type": "code",
   "execution_count": null,
   "metadata": {},
   "outputs": [],
   "source": [
    "def arbolvacio(raiz):\n",
    "    #devuelve true si el arbol esta vacio\n",
    "    return raiz is None\n",
    "    "
   ]
  },
  {
   "cell_type": "code",
   "execution_count": null,
   "metadata": {},
   "outputs": [],
   "source": [
    "def reemplazar(raiz):\n",
    "    #determinar el nodo que reemplezara al que elimina\n",
    "    aux = None\n",
    "    if(raiz.der is None):\n",
    "        aux = raiz\n",
    "        raiz = raiz.izq\n",
    "    else:\n",
    "        raiz.der, aux = reemplazar(raiz.der)\n",
    "        "
   ]
  },
  {
   "cell_type": "code",
   "execution_count": null,
   "metadata": {},
   "outputs": [],
   "source": [
    "def por_nivel(raiz):\n",
    "    #realizar el barrido post-orden del arbol\n",
    "    pendientes = Cola()\n",
    "    arribo(pendientes,raiz)\n",
    "    while(not cola_vacia(pendientes)):\n",
    "        nodo = atencion(pendientes)\n",
    "        print(nodo.info)\n",
    "        if(nodo.izq is not None):\n",
    "            arribo(pendientes, nodo.izq)\n",
    "        if(nodo.der is not None):\n",
    "            arribo(pendientes, nodo.der)\n",
    "            "
   ]
  },
  {
   "cell_type": "code",
   "execution_count": null,
   "metadata": {},
   "outputs": [],
   "source": [
    "def buscar(raiz,clave):\n",
    "    #devuelve la direccion del elemento buscado\n",
    "    pos = None\n",
    "    if(raiz is not None):\n",
    "        if(raiz.info == clave):\n",
    "            pos = raiz\n",
    "        elif(clave < raiz.info):\n",
    "            pos = buscar(raiz.izq,clave)\n",
    "        else:\n",
    "            pos = buscar(raiz.der,clave)\n",
    "    return pos"
   ]
  },
  {
   "cell_type": "code",
   "execution_count": null,
   "metadata": {},
   "outputs": [],
   "source": [
    "def inorden(raiz):\n",
    "    #realiza el barrido inorden del arbol\n",
    "    if(raiz is not None):\n",
    "        inorden(raiz.izq)\n",
    "        print(raiz.info)\n",
    "        inorden(raiz.der)"
   ]
  },
  {
   "cell_type": "code",
   "execution_count": null,
   "metadata": {},
   "outputs": [],
   "source": [
    "def preorden(raiz):\n",
    "    #realiza el barrido preorden del arbol\n",
    "    if(raiz is not None):\n",
    "        print(raiz.info)\n",
    "        preorden(raiz.izq)\n",
    "        preorden(raiz.der)\n",
    "        "
   ]
  },
  {
   "cell_type": "code",
   "execution_count": null,
   "metadata": {},
   "outputs": [],
   "source": [
    "def postorden(raiz):\n",
    "    #realiza el barrido posorden del arbol\n",
    "    if(raiz is not None):\n",
    "        postorden(raiz.der)\n",
    "        print(raiz.info)\n",
    "        postorden(raiz.info)\n",
    "        "
   ]
  },
  {
   "cell_type": "code",
   "execution_count": null,
   "metadata": {},
   "outputs": [],
   "source": [
    "class Datos(object):\n",
    "    info = 'B'\n",
    "    der = None\n",
    "    izq = None\n",
    "\n",
    "d = Datos\n",
    "d.info\n"
   ]
  },
  {
   "cell_type": "code",
   "execution_count": null,
   "metadata": {},
   "outputs": [],
   "source": [
    "insertar_nodo(d,'I')"
   ]
  },
  {
   "cell_type": "code",
   "execution_count": null,
   "metadata": {},
   "outputs": [],
   "source": [
    "preorden(d)"
   ]
  },
  {
   "cell_type": "code",
   "execution_count": null,
   "metadata": {},
   "outputs": [],
   "source": [
    "buscar(d,'A')"
   ]
  },
  {
   "cell_type": "code",
   "execution_count": null,
   "metadata": {},
   "outputs": [],
   "source": [
    "eliminar_nodo(d,'A')"
   ]
  },
  {
   "cell_type": "code",
   "execution_count": null,
   "metadata": {},
   "outputs": [],
   "source": [
    "arbolvacio(d)"
   ]
  },
  {
   "cell_type": "markdown",
   "metadata": {},
   "source": [
    "### Insertamos ahora una altura al arbol binario, precisamente para hacerlo autobalanceable "
   ]
  },
  {
   "cell_type": "code",
   "execution_count": null,
   "metadata": {},
   "outputs": [],
   "source": [
    "class nodoArbol(object):\n",
    "    #clase nodo arbol\n",
    "    def __init__(self,info):\n",
    "        self.izq = None\n",
    "        self.der = None\n",
    "        self.info = info\n",
    "        self.altura = 0"
   ]
  },
  {
   "cell_type": "markdown",
   "metadata": {},
   "source": [
    "Recordemos que la altura de el nodo es el tamaño de la distancia mas larga para llegar del nodo fin a la raiz"
   ]
  },
  {
   "cell_type": "code",
   "execution_count": null,
   "metadata": {},
   "outputs": [],
   "source": [
    "def altura(raiz):\n",
    "    #devulve la altura de un nodo\n",
    "    if(raiz is None):\n",
    "        return -1\n",
    "    else:\n",
    "        return raiz,altura"
   ]
  },
  {
   "cell_type": "code",
   "execution_count": null,
   "metadata": {},
   "outputs": [],
   "source": [
    "def actualizaraltura(raiz):\n",
    "    ## Actualiza la altura de un nodo\n",
    "    if(raiz is not None):\n",
    "        alt_izq = altura(raiz.izq)\n",
    "        alt_der = altura(raiz.der)\n",
    "        raiz.altura = (alt_izq if alt_izq>alt_der else alt_der) + 1     "
   ]
  },
  {
   "cell_type": "code",
   "execution_count": null,
   "metadata": {},
   "outputs": [],
   "source": [
    "def rotar_simple(raiz,control):\n",
    "    #realiza una rotacion simple de nodos a la derecha o a la izquierda\n",
    "    if control:\n",
    "        aux = raiz.izq\n",
    "        raiz.izq = aux.der\n",
    "        aux.der = raiz\n",
    "    else:\n",
    "        aux = raiz.der\n",
    "        raiz.der = aux.izq\n",
    "        aux.izq = raiz\n",
    "    actualizaraltura(raiz)\n",
    "    actualizaraltura(aux)\n",
    "    raiz = aux\n",
    "    return raiz\n",
    "    "
   ]
  },
  {
   "cell_type": "code",
   "execution_count": null,
   "metadata": {},
   "outputs": [],
   "source": [
    "def rotar_doble(raiz,control):\n",
    "    #Realiza una rotacion doble de nodos a la derecha o a la izquierda\n",
    "    if control:\n",
    "        raiz.izq = rotar_simple(raiz.izq, False)\n",
    "        raiz = rotar_simple(raiz, True)\n",
    "    else:\n",
    "        raiz.der = rotar_simple(raiz.der, True)\n",
    "        raiz = rotar_simple(raiz,False)\n",
    "    return raiz"
   ]
  },
  {
   "cell_type": "code",
   "execution_count": null,
   "metadata": {},
   "outputs": [],
   "source": [
    "def balancerar(raiz):\n",
    "    #Determina que rotacion hay que hacer para balancear el arbol\n",
    "    if(raiz is not None):\n",
    "        if(altura(raiz.izq)-altura(raiz.der)-2):\n",
    "            if(altura(raiz.izq)-altura(raiz.izq.der)):\n",
    "                raiz - rotar_simple(raiz,True)\n",
    "            else:\n",
    "                raiz = rotar_doble(raiz,True)\n",
    "        elif(altura(raiz.der)-altura(raiz.izq)==2):\n",
    "            if(altura(raiz.der.der) >= altura(raiz.der.der)):\n",
    "                raiz = rotar_simple(raiz,False)\n",
    "            else:\n",
    "                raiz = rotar_doble(raiz,False)\n",
    "        return raiz"
   ]
  },
  {
   "cell_type": "code",
   "execution_count": null,
   "metadata": {},
   "outputs": [],
   "source": [
    "def insertar_nodo(raiz,dato,pos):\n",
    "    #inserta un dato al arbol\n",
    "    if(raiz is None):\n",
    "        raiz = nodoArbol(dato,pos)\n",
    "    elif(dato<raiz.info):\n",
    "        raiz.izq = insertar_nodo(raiz.izq,dato,pos)\n",
    "    else:\n",
    "        raiz.der = insertar_nodo(raiz.der,dato,pos)\n",
    "    raiz = balancerar(raiz)\n",
    "    actualizaraltura(raiz)\n",
    "    return raiz"
   ]
  },
  {
   "cell_type": "code",
   "execution_count": null,
   "metadata": {},
   "outputs": [],
   "source": [
    "def eliminar_nodo(raiz,clave):\n",
    "    #eliminia un elemento y devuelve si lo encuentra\n",
    "    x = None\n",
    "    if(raiz is not None):\n",
    "        if(clave < raiz.info):\n",
    "            raiz.izq, x = eliminar_nodo(raiz.izq,clave)\n",
    "        elif(clave > raiz.info):\n",
    "            raiz.der,x = eliminar_nodo(raiz.der, clave)\n",
    "        else:\n",
    "            x = raiz.info\n",
    "            if(raiz.izq is None):\n",
    "                raiz = raiz.der\n",
    "            elif(raiz.der is None):\n",
    "                raiz = raiz.izq\n",
    "            else:\n",
    "                raiz.izq,aux = reemplazar(raiz.izq)\n",
    "                raiz.info, raiz.nrr = aux.ifno, aux.nrr\n",
    "    raiz = balancerar(raiz)\n",
    "    actualizaraltura(raiz)\n",
    "    return raiz,x"
   ]
  },
  {
   "cell_type": "code",
   "execution_count": null,
   "metadata": {},
   "outputs": [],
   "source": [
    "raiz = None\n",
    "i = 0\n",
    "pais = input('ingrese pais a cargar: ')\n",
    "while(pais != '' and i < 21):\n",
    "    print(pais)\n",
    "    raiz = insertar_nodo(raiz,pais)\n",
    "    print(raiz)\n",
    "    i += 1\n",
    "    pais = input('ingrese nombre del pais a cargar')\n",
    "\n",
    "inorden(raiz)\n",
    "pais= input('Ingrese nombre del pais a eliminar ')\n",
    "raiz, dato = eliminar_nodo(raiz,pais)\n",
    "if(dato is not None):\n",
    "    print('Pais eliminado', dato)\n",
    "\n",
    "pos = buscar(raiz, 'tailandia')\n",
    "if(pos is not None):\n",
    "    raiz, dato = eliminar_nodo(raiz, 'tailandia')\n",
    "    dato = 'tailandia'\n",
    "    raiz = insertar_nodo(raiz,dato)\n",
    "inorden(raiz)"
   ]
  }
 ],
 "metadata": {
  "interpreter": {
   "hash": "12e7b2db913c7cced4d5bf71ce365c438f2053887e824f813caa9208ccef4b13"
  },
  "kernelspec": {
   "display_name": "Python 3.8.8 64-bit ('base': conda)",
   "language": "python",
   "name": "python3"
  },
  "language_info": {
   "codemirror_mode": {
    "name": "ipython",
    "version": 3
   },
   "file_extension": ".py",
   "mimetype": "text/x-python",
   "name": "python",
   "nbconvert_exporter": "python",
   "pygments_lexer": "ipython3",
   "version": "3.8.8"
  },
  "orig_nbformat": 4
 },
 "nbformat": 4,
 "nbformat_minor": 2
}
