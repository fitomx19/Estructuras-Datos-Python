{
 "cells": [
  {
   "cell_type": "markdown",
   "metadata": {},
   "source": [
    "## Simplifiquemos las cosas usando montones ¡Monticulos para todos!"
   ]
  },
  {
   "cell_type": "code",
   "execution_count": 87,
   "metadata": {},
   "outputs": [],
   "source": [
    "class Heap(object):\n",
    "    #creamos un monticulo\n",
    "    def __init__(self,tamanio):\n",
    "        #crea un vector vacio para un monticulo\n",
    "        self.tamanio = 0\n",
    "        self.vector = [None] * tamanio\n",
    "        "
   ]
  },
  {
   "cell_type": "code",
   "execution_count": 88,
   "metadata": {},
   "outputs": [],
   "source": [
    "def agregar(heap, dato):\n",
    "    #agrega un dato en el monticulo\n",
    "    heap.vector[heap.tamanio] = dato\n",
    "    flotar(heap , heap.tamanio)\n",
    "    heap.tamanio += 1"
   ]
  },
  {
   "cell_type": "code",
   "execution_count": 89,
   "metadata": {},
   "outputs": [],
   "source": [
    "def quitar(heap):\n",
    "    #quita el elemnto de la cima del monticulo\n",
    "    intercambio(heap.vector,0,heap.tamanio-1)\n",
    "    dato = heap.vector[heap.tamanio-1]\n",
    "    heap.tamanio =- 1\n",
    "    hundir(heap,0)\n",
    "    return dato"
   ]
  },
  {
   "cell_type": "code",
   "execution_count": 90,
   "metadata": {},
   "outputs": [],
   "source": [
    "def cantidad_elementos(heap):\n",
    "    #devuelve la cantidad de elementos en el monticulo\n",
    "    return heap.tamanio\n"
   ]
  },
  {
   "cell_type": "code",
   "execution_count": 91,
   "metadata": {},
   "outputs": [],
   "source": [
    "def heap_vacio(heap):\n",
    "    #devuelve true si el monticulo esta vacio\n",
    "    return heap.tamanio == 0"
   ]
  },
  {
   "cell_type": "code",
   "execution_count": 92,
   "metadata": {},
   "outputs": [],
   "source": [
    "def heap_lleno(heap):\n",
    "    #devuelve true si el monticulo etsa lleno\n",
    "    return heap.tamanio == len(heap.vector)\n",
    "    "
   ]
  },
  {
   "cell_type": "code",
   "execution_count": 93,
   "metadata": {},
   "outputs": [],
   "source": [
    "def flotar(heap,indice):\n",
    "    #Flota el elemento en la posicion indice\n",
    "    while(indice > 0 and heap.vector[indice] > heap.vector[(indice-1)//2]):\n",
    "        padre = (indice - 1 ) // 2\n",
    "        intercambio(heap.vector , indice, padre)\n",
    "        indice = padre"
   ]
  },
  {
   "cell_type": "code",
   "execution_count": 94,
   "metadata": {},
   "outputs": [],
   "source": [
    "def hundir(heap,indice):\n",
    "    #hunde el elemento en la posicion indice\n",
    "    hijo_izq = (indice * 2) + 1\n",
    "    control = True\n",
    "    while(control and hijo_izq < heap.tamanio):\n",
    "        hijo_der = hijo_izq - 1 \n",
    "        aux = hijo_izq\n",
    "        if(hijo_der < heap.tamanio):\n",
    "            if heap.vector[hijo_der] > heap.vector[hijo_izq]:\n",
    "                aux = hijo_der\n",
    "        if(heap.vector[indice] < heap.vector[aux]):\n",
    "            intercambio(heap.vector, indice, aux)\n",
    "            indice = aux\n",
    "            hijo_izq = (indice * 2) + 1 \n",
    "        else:\n",
    "            control = False\n",
    "            \n",
    " "
   ]
  },
  {
   "cell_type": "code",
   "execution_count": 95,
   "metadata": {},
   "outputs": [],
   "source": [
    "def monticulizar(heap):\n",
    "    #transforma un vector en un monticulo\n",
    "    for i in range(len(heap.vector)):\n",
    "        flotar(heap, i)\n",
    "        "
   ]
  },
  {
   "cell_type": "code",
   "execution_count": 96,
   "metadata": {},
   "outputs": [],
   "source": [
    "def arribo(heap,dato,prioridad):\n",
    "    #arribo el dato a la cola de prioridad\n",
    "    agregar(heap, [prioridad,dato])\n"
   ]
  },
  {
   "cell_type": "code",
   "execution_count": 97,
   "metadata": {},
   "outputs": [],
   "source": [
    "def atencion(heap):\n",
    "    #atiende el elemento en el frente de la cola y lo devuelve\n",
    "    return quitar(heap)[1]"
   ]
  },
  {
   "cell_type": "code",
   "execution_count": 98,
   "metadata": {},
   "outputs": [],
   "source": [
    "def cambiar_prioridad(heap,indice,prioridad):\n",
    "    prioridad_anterior = heap[indice][0]\n",
    "    heap[indice][0] = prioridad\n",
    "    if(prioridad > prioridad_anterior):\n",
    "        flotar(heap,indice)\n",
    "    elif(prioridad < prioridad_anterior):\n",
    "        hundir(heap,indice)"
   ]
  },
  {
   "cell_type": "code",
   "execution_count": 99,
   "metadata": {},
   "outputs": [
    {
     "ename": "NameError",
     "evalue": "name 'intercambio' is not defined",
     "output_type": "error",
     "traceback": [
      "\u001b[0;31m---------------------------------------------------------------------------\u001b[0m",
      "\u001b[0;31mNameError\u001b[0m                                 Traceback (most recent call last)",
      "\u001b[0;32m/var/folders/zb/0l4s85s95rzbg13c3_fm6k540000gn/T/ipykernel_19337/1067745792.py\u001b[0m in \u001b[0;36m<module>\u001b[0;34m\u001b[0m\n\u001b[1;32m      6\u001b[0m     \u001b[0mnum\u001b[0m \u001b[0;34m=\u001b[0m \u001b[0mrandint\u001b[0m\u001b[0;34m(\u001b[0m\u001b[0;36m0\u001b[0m\u001b[0;34m,\u001b[0m\u001b[0;36m500\u001b[0m\u001b[0;34m)\u001b[0m\u001b[0;34m\u001b[0m\u001b[0;34m\u001b[0m\u001b[0m\n\u001b[1;32m      7\u001b[0m     \u001b[0mprioridad\u001b[0m \u001b[0;34m=\u001b[0m \u001b[0mrandint\u001b[0m\u001b[0;34m(\u001b[0m\u001b[0;36m1\u001b[0m\u001b[0;34m,\u001b[0m\u001b[0;36m3\u001b[0m\u001b[0;34m)\u001b[0m\u001b[0;34m\u001b[0m\u001b[0;34m\u001b[0m\u001b[0m\n\u001b[0;32m----> 8\u001b[0;31m     \u001b[0magregar\u001b[0m\u001b[0;34m(\u001b[0m\u001b[0mheap\u001b[0m\u001b[0;34m,\u001b[0m\u001b[0;34m[\u001b[0m\u001b[0mprioridad\u001b[0m\u001b[0;34m,\u001b[0m\u001b[0mnum\u001b[0m\u001b[0;34m]\u001b[0m\u001b[0;34m)\u001b[0m\u001b[0;34m\u001b[0m\u001b[0;34m\u001b[0m\u001b[0m\n\u001b[0m\u001b[1;32m      9\u001b[0m \u001b[0mprint\u001b[0m\u001b[0;34m(\u001b[0m\u001b[0mheap\u001b[0m\u001b[0;34m.\u001b[0m\u001b[0mvector\u001b[0m\u001b[0;34m)\u001b[0m\u001b[0;34m\u001b[0m\u001b[0;34m\u001b[0m\u001b[0m\n\u001b[1;32m     10\u001b[0m \u001b[0;32mwhile\u001b[0m\u001b[0;34m(\u001b[0m\u001b[0;32mnot\u001b[0m \u001b[0mheap_vacio\u001b[0m\u001b[0;34m(\u001b[0m\u001b[0mheap\u001b[0m\u001b[0;34m)\u001b[0m\u001b[0;34m)\u001b[0m\u001b[0;34m:\u001b[0m\u001b[0;34m\u001b[0m\u001b[0;34m\u001b[0m\u001b[0m\n",
      "\u001b[0;32m/var/folders/zb/0l4s85s95rzbg13c3_fm6k540000gn/T/ipykernel_19337/320158043.py\u001b[0m in \u001b[0;36magregar\u001b[0;34m(heap, dato)\u001b[0m\n\u001b[1;32m      2\u001b[0m     \u001b[0;31m#agrega un dato en el monticulo\u001b[0m\u001b[0;34m\u001b[0m\u001b[0;34m\u001b[0m\u001b[0m\n\u001b[1;32m      3\u001b[0m     \u001b[0mheap\u001b[0m\u001b[0;34m.\u001b[0m\u001b[0mvector\u001b[0m\u001b[0;34m[\u001b[0m\u001b[0mheap\u001b[0m\u001b[0;34m.\u001b[0m\u001b[0mtamanio\u001b[0m\u001b[0;34m]\u001b[0m \u001b[0;34m=\u001b[0m \u001b[0mdato\u001b[0m\u001b[0;34m\u001b[0m\u001b[0;34m\u001b[0m\u001b[0m\n\u001b[0;32m----> 4\u001b[0;31m     \u001b[0mflotar\u001b[0m\u001b[0;34m(\u001b[0m\u001b[0mheap\u001b[0m \u001b[0;34m,\u001b[0m \u001b[0mheap\u001b[0m\u001b[0;34m.\u001b[0m\u001b[0mtamanio\u001b[0m\u001b[0;34m)\u001b[0m\u001b[0;34m\u001b[0m\u001b[0;34m\u001b[0m\u001b[0m\n\u001b[0m\u001b[1;32m      5\u001b[0m     \u001b[0mheap\u001b[0m\u001b[0;34m.\u001b[0m\u001b[0mtamanio\u001b[0m \u001b[0;34m+=\u001b[0m \u001b[0;36m1\u001b[0m\u001b[0;34m\u001b[0m\u001b[0;34m\u001b[0m\u001b[0m\n",
      "\u001b[0;32m/var/folders/zb/0l4s85s95rzbg13c3_fm6k540000gn/T/ipykernel_19337/703319277.py\u001b[0m in \u001b[0;36mflotar\u001b[0;34m(heap, indice)\u001b[0m\n\u001b[1;32m      3\u001b[0m     \u001b[0;32mwhile\u001b[0m\u001b[0;34m(\u001b[0m\u001b[0mindice\u001b[0m \u001b[0;34m>\u001b[0m \u001b[0;36m0\u001b[0m \u001b[0;32mand\u001b[0m \u001b[0mheap\u001b[0m\u001b[0;34m.\u001b[0m\u001b[0mvector\u001b[0m\u001b[0;34m[\u001b[0m\u001b[0mindice\u001b[0m\u001b[0;34m]\u001b[0m \u001b[0;34m>\u001b[0m \u001b[0mheap\u001b[0m\u001b[0;34m.\u001b[0m\u001b[0mvector\u001b[0m\u001b[0;34m[\u001b[0m\u001b[0;34m(\u001b[0m\u001b[0mindice\u001b[0m\u001b[0;34m-\u001b[0m\u001b[0;36m1\u001b[0m\u001b[0;34m)\u001b[0m\u001b[0;34m//\u001b[0m\u001b[0;36m2\u001b[0m\u001b[0;34m]\u001b[0m\u001b[0;34m)\u001b[0m\u001b[0;34m:\u001b[0m\u001b[0;34m\u001b[0m\u001b[0;34m\u001b[0m\u001b[0m\n\u001b[1;32m      4\u001b[0m         \u001b[0mpadre\u001b[0m \u001b[0;34m=\u001b[0m \u001b[0;34m(\u001b[0m\u001b[0mindice\u001b[0m \u001b[0;34m-\u001b[0m \u001b[0;36m1\u001b[0m \u001b[0;34m)\u001b[0m \u001b[0;34m//\u001b[0m \u001b[0;36m2\u001b[0m\u001b[0;34m\u001b[0m\u001b[0;34m\u001b[0m\u001b[0m\n\u001b[0;32m----> 5\u001b[0;31m         \u001b[0mintercambio\u001b[0m\u001b[0;34m(\u001b[0m\u001b[0mheap\u001b[0m\u001b[0;34m.\u001b[0m\u001b[0mvector\u001b[0m \u001b[0;34m,\u001b[0m \u001b[0mindice\u001b[0m\u001b[0;34m,\u001b[0m \u001b[0mpadre\u001b[0m\u001b[0;34m)\u001b[0m\u001b[0;34m\u001b[0m\u001b[0;34m\u001b[0m\u001b[0m\n\u001b[0m\u001b[1;32m      6\u001b[0m         \u001b[0mindice\u001b[0m \u001b[0;34m=\u001b[0m \u001b[0mpadre\u001b[0m\u001b[0;34m\u001b[0m\u001b[0;34m\u001b[0m\u001b[0m\n",
      "\u001b[0;31mNameError\u001b[0m: name 'intercambio' is not defined"
     ]
    }
   ],
   "source": [
    "from random import randint\n",
    "\n",
    "heap = Heap(10)\n",
    "\n",
    "while(not heap_lleno(heap)):\n",
    "    num = randint(0,500)\n",
    "    prioridad = randint(1,3)\n",
    "    agregar(heap,[prioridad,num])\n",
    "print(heap.vector)\n",
    "while(not heap_vacio(heap)):\n",
    "    dato = atencion(heap)\n",
    "    print(dato)"
   ]
  },
  {
   "cell_type": "code",
   "execution_count": null,
   "metadata": {},
   "outputs": [],
   "source": [
    "def heapsort(heap):\n",
    "    aux = heap.tamanio\n",
    "    for i in range(heap.tamanio):\n",
    "        quitar(heap)\n",
    "    heap.tamanio = aux"
   ]
  }
 ],
 "metadata": {
  "interpreter": {
   "hash": "12e7b2db913c7cced4d5bf71ce365c438f2053887e824f813caa9208ccef4b13"
  },
  "kernelspec": {
   "display_name": "Python 3.8.8 64-bit ('base': conda)",
   "language": "python",
   "name": "python3"
  },
  "language_info": {
   "codemirror_mode": {
    "name": "ipython",
    "version": 3
   },
   "file_extension": ".py",
   "mimetype": "text/x-python",
   "name": "python",
   "nbconvert_exporter": "python",
   "pygments_lexer": "ipython3",
   "version": "3.9.7"
  },
  "orig_nbformat": 4
 },
 "nbformat": 4,
 "nbformat_minor": 2
}
