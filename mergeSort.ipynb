{
 "cells": [
  {
   "cell_type": "markdown",
   "metadata": {},
   "source": [
    "Ordenamiento por mezcla\n",
    "Creado pro Von Neumann 1945"
   ]
  },
  {
   "cell_type": "code",
   "execution_count": 38,
   "metadata": {},
   "outputs": [],
   "source": [
    "def mergeSort(lista):\n",
    "\n",
    "    if(len(lista) <= 1):\n",
    "        return lista\n",
    "    else:\n",
    "        medio = len(lista) // 2\n",
    "        izquierda = []\n",
    "        for i in range(0,medio):\n",
    "            izquierda.append(lista[1])\n",
    "        derecha = []\n",
    "        for i in range(medio, len(lista)):\n",
    "            derecha.append(lista[i])\n",
    "        izquierda = mergeSort(izquierda)\n",
    "        derecha = mergeSort(derecha)\n",
    "        if(izquierda[medio-1] <= derecha[0]):\n",
    "            izquierda += derecha\n",
    "            return izquierda\n",
    "        resultado = merge(izquierda,derecha)\n",
    "        return resultado\n",
    "        print(lista)\n",
    "        "
   ]
  },
  {
   "cell_type": "code",
   "execution_count": 39,
   "metadata": {},
   "outputs": [],
   "source": [
    "def merge(izquierda,derecha):\n",
    "\tlista_mezclada = []\n",
    "\twhile(len(izquierda) > 0) and (len(derecha) > 0):\n",
    "\t\tif(izquierda[0] < derecha[0]):\n",
    "\t\t\tlista_mezclada.append(izquierda.pop(0))\n",
    "\t\telse:\n",
    "\t\t\tlista_mezclada.append(derecha.pop(0))\n",
    "\tif(len(izquierda) >0 ):\n",
    "\t\tlista_mezclada += izquierda\n",
    "\tif(len(derecha)>0):\n",
    "\t\tlista_mezclada += derecha\n",
    "\treturn lista_mezclada\n",
    "\t\n",
    "\n",
    "\n"
   ]
  },
  {
   "cell_type": "code",
   "execution_count": 40,
   "metadata": {},
   "outputs": [
    {
     "data": {
      "text/plain": [
       "[2, 2, 2, 2, 2, 3, 3, 5, 5, 43]"
      ]
     },
     "execution_count": 40,
     "metadata": {},
     "output_type": "execute_result"
    }
   ],
   "source": [
    "mergeSort([3,2,4,5,6,3,5,7,43,3])"
   ]
  }
 ],
 "metadata": {
  "interpreter": {
   "hash": "12e7b2db913c7cced4d5bf71ce365c438f2053887e824f813caa9208ccef4b13"
  },
  "kernelspec": {
   "display_name": "Python 3.8.8 64-bit ('base': conda)",
   "name": "python3"
  },
  "language_info": {
   "codemirror_mode": {
    "name": "ipython",
    "version": 3
   },
   "file_extension": ".py",
   "mimetype": "text/x-python",
   "name": "python",
   "nbconvert_exporter": "python",
   "pygments_lexer": "ipython3",
   "version": "3.8.8"
  },
  "orig_nbformat": 4
 },
 "nbformat": 4,
 "nbformat_minor": 2
}
