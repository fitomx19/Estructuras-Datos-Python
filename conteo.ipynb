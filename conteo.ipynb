{
 "cells": [
  {
   "cell_type": "markdown",
   "metadata": {},
   "source": [
    "#Algoritmo de conteo\n",
    "Este es un algoritmo que solo funciona para numeros enteros positivovs porque trabaja on el indice de la matriz "
   ]
  },
  {
   "cell_type": "code",
   "execution_count": 11,
   "metadata": {},
   "outputs": [],
   "source": [
    "def count_sort(lista,maximo):\n",
    "    lista_conteo = [0] * (maximo +1)\n",
    "    lista_ordenada = [None] * len(lista)\n",
    "\n",
    "    for i in lista: \n",
    "        lista_conteo[i] += 1\n",
    "    \n",
    "    total = 0\n",
    "    for i in range(len(lista_conteo)):\n",
    "        lista_conteo[i], total = total , total + lista_conteo[i]\n",
    "\n",
    "    for indice in lista:\n",
    "        lista_ordenada[lista_conteo[indice]] = indice\n",
    "        lista_conteo[indice] += 1\n",
    "    return lista_ordenada   "
   ]
  },
  {
   "cell_type": "code",
   "execution_count": 12,
   "metadata": {},
   "outputs": [
    {
     "data": {
      "text/plain": [
       "[1, 2, 2, 3, 3, 4, 4, 5, 5, 6, 6, 7, 8, 9, 99]"
      ]
     },
     "execution_count": 12,
     "metadata": {},
     "output_type": "execute_result"
    }
   ],
   "source": [
    "count_sort([1,3,5,7,9,2,4,6,8,3,5,2,4,6,99], 1000000)"
   ]
  }
 ],
 "metadata": {
  "interpreter": {
   "hash": "12e7b2db913c7cced4d5bf71ce365c438f2053887e824f813caa9208ccef4b13"
  },
  "kernelspec": {
   "display_name": "Python 3.8.8 64-bit ('base': conda)",
   "name": "python3"
  },
  "language_info": {
   "codemirror_mode": {
    "name": "ipython",
    "version": 3
   },
   "file_extension": ".py",
   "mimetype": "text/x-python",
   "name": "python",
   "nbconvert_exporter": "python",
   "pygments_lexer": "ipython3",
   "version": "3.8.8"
  },
  "orig_nbformat": 4
 },
 "nbformat": 4,
 "nbformat_minor": 2
}
