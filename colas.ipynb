{
 "cells": [
  {
   "cell_type": "markdown",
   "metadata": {},
   "source": [
    "# Colas "
   ]
  },
  {
   "cell_type": "markdown",
   "metadata": {},
   "source": [
    "| Tabla        | Are           | Cool  |\n",
    "| ------------- |:-------------:| -----:|\n",
    "||||\n",
    "||||\n",
    "||||"
   ]
  },
  {
   "cell_type": "code",
   "execution_count": 1,
   "metadata": {},
   "outputs": [],
   "source": [
    "class nodoCola(object):\n",
    "    #clase node cola\n",
    "    info,sig = None,None\n",
    "class Cola(object):\n",
    "    #clase cola\n",
    "\n",
    "    def __init__(self):\n",
    "        #crear una cola vacia\n",
    "        self.frente, self.final = None,None\n",
    "        self.tamanio = 0"
   ]
  },
  {
   "cell_type": "code",
   "execution_count": 2,
   "metadata": {},
   "outputs": [],
   "source": [
    "def arribo (cola,dato):\n",
    "    #arriba el dato al final de la cola\n",
    "    nodo = nodoCola()\n",
    "    nodo.info = dato\n",
    "    if cola.frente is None:\n",
    "        cola.frente = nodo\n",
    "    else:\n",
    "        cola.final.sig = nodo\n",
    "    cola.final = nodo\n",
    "    cola.tamanio += 1"
   ]
  },
  {
   "cell_type": "code",
   "execution_count": 3,
   "metadata": {},
   "outputs": [],
   "source": [
    "def atencion(cola):\n",
    "    #atiende al elemento al frente d ela colo y lo devuelve\n",
    "    dato = cola.frente.info \n",
    "    cola.frente = cola.frente.sig\n",
    "    if cola.frente is None:\n",
    "        cola.final = None\n",
    "    cola.tamanio -= 1\n",
    "    return dato\n",
    "    \n"
   ]
  },
  {
   "cell_type": "code",
   "execution_count": 4,
   "metadata": {},
   "outputs": [],
   "source": [
    "def cola_vacia(cola):\n",
    "    #devuelve true si la cola esta vacia\n",
    "    return cola.frente is None"
   ]
  },
  {
   "cell_type": "code",
   "execution_count": 5,
   "metadata": {},
   "outputs": [],
   "source": [
    "def en_frente(cola):\n",
    "    #devuelve el valor almacenado en el frente de la cola\n",
    "    return cola.frente.info"
   ]
  },
  {
   "cell_type": "code",
   "execution_count": 6,
   "metadata": {},
   "outputs": [],
   "source": [
    "def tamanio(cola):\n",
    "    #devuelve el numero de elementos de la cola\n",
    "    return cola.tamanio\n",
    "    "
   ]
  },
  {
   "cell_type": "code",
   "execution_count": 7,
   "metadata": {},
   "outputs": [],
   "source": [
    "def mover_al_final(cola):\n",
    "    #mueve el elemento al final de la cola\n",
    "    dato = atencion(cola)\n",
    "    arribo(cola,dato)\n",
    "    return dato"
   ]
  },
  {
   "cell_type": "code",
   "execution_count": 8,
   "metadata": {},
   "outputs": [],
   "source": [
    "def barrido(cola):\n",
    "    #Muestra el contenido de una cola sin perder datos\n",
    "    caux = cola()\n",
    "    while(not cola_vacia(cola)):\n",
    "        dato = atencion(cola)\n",
    "        print(dato)\n",
    "        arribo(caux,dato)\n",
    "    while(not cola_vacia(caux)):\n",
    "        dato = atencion(caux)\n",
    "        arribo(cola,dato)\n",
    "        "
   ]
  },
  {
   "cell_type": "code",
   "execution_count": null,
   "metadata": {},
   "outputs": [],
   "source": [
    "def barrido(cola):\n",
    "    #muestra el contenido de una cola sin perder datos\n",
    "    i = 0\n",
    "    while(i < tamanio(cola)):\n",
    "        dato = mover_al_final(cola)\n",
    "        print(dato)\n",
    "        i += i"
   ]
  },
  {
   "cell_type": "code",
   "execution_count": 9,
   "metadata": {},
   "outputs": [
    {
     "name": "stdout",
     "output_type": "stream",
     "text": [
      "Datos cola vocales\n",
      "e\n",
      "e\n",
      "a\n",
      "i\n",
      "o\n"
     ]
    }
   ],
   "source": [
    "#Este programa busca en la cola de caracteres todos aquellos que sean vocales\n",
    "\n",
    "cdatos = Cola()\n",
    "cvocales = Cola()\n",
    "letra = input('Ingrese un caracter ')\n",
    "while(letra != ''):\n",
    "    arribo(cdatos,letra)\n",
    "    letra = input('Ingrese un caracter')\n",
    "while(not cola_vacia(cdatos)):\n",
    "    letra = atencion(cdatos)\n",
    "    if letra.upper() in ['A', 'E' ,'I','O','U']:\n",
    "        arribo(cvocales, letra)\n",
    "print('Datos cola vocales')\n",
    "while(not cola_vacia(cvocales)):\n",
    "    dato = atencion(cvocales)\n",
    "    print(dato)"
   ]
  }
 ],
 "metadata": {
  "interpreter": {
   "hash": "12e7b2db913c7cced4d5bf71ce365c438f2053887e824f813caa9208ccef4b13"
  },
  "kernelspec": {
   "display_name": "Python 3.8.8 64-bit ('base': conda)",
   "language": "python",
   "name": "python3"
  },
  "language_info": {
   "codemirror_mode": {
    "name": "ipython",
    "version": 3
   },
   "file_extension": ".py",
   "mimetype": "text/x-python",
   "name": "python",
   "nbconvert_exporter": "python",
   "pygments_lexer": "ipython3",
   "version": "3.8.8"
  },
  "orig_nbformat": 4
 },
 "nbformat": 4,
 "nbformat_minor": 2
}
