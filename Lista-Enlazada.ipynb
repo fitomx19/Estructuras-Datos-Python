{
 "cells": [
  {
   "cell_type": "markdown",
   "metadata": {},
   "source": [
    "# Lista enlazada"
   ]
  },
  {
   "cell_type": "code",
   "execution_count": null,
   "metadata": {},
   "outputs": [],
   "source": [
    "    class nodoLista(object):\n",
    "        #clase nodo lista\n",
    "        info , sig = None ,None\n",
    "    class Lista(object):\n",
    "        #clase lista simplemente enlazada\n",
    "        def __init__(self):\n",
    "            #crea una lista vacia\n",
    "            self.inicio = None\n",
    "            self.tamanio = 0\n",
    "\n"
   ]
  },
  {
   "cell_type": "code",
   "execution_count": null,
   "metadata": {},
   "outputs": [],
   "source": [
    "def insertar(lista,dato):\n",
    "    nodo = nodoLista()\n",
    "    nodo.info = dato\n",
    "    if(lista.inicio is None) or (lista.inicio.info > dato):\n",
    "        nodo.sig = lista.inicio\n",
    "        lista.inicio = nodo\n",
    "    else:\n",
    "        ant = lista.inicio\n",
    "        act = lista.inicio.sig\n",
    "        while(act is not None and act.info < dato):\n",
    "            ant =  ant.sig\n",
    "            act = act.sig\n",
    "        nodo.sig = act\n",
    "        ant.sig = nodo\n",
    "    lista.tamanio += 1\n",
    "    "
   ]
  },
  {
   "cell_type": "code",
   "execution_count": null,
   "metadata": {},
   "outputs": [],
   "source": [
    "def lista_vacia(lista):\n",
    "    #devuelve true si la lista esta vacia\n",
    "    return lista.inicio is None"
   ]
  },
  {
   "cell_type": "code",
   "execution_count": null,
   "metadata": {},
   "outputs": [],
   "source": [
    "def eliminar(lista,clave):\n",
    "    #Elimina un elemento de la lista y la devuelve si la encuentra\n",
    "    dato = None\n",
    "    if(lista.inicio.info == clave):\n",
    "        dato = lista.inicio.info\n",
    "        lista.inicio = lista.inicio.sig\n",
    "        lista.tamanio -= 1\n",
    "    else:\n",
    "        anterior = lista.inicio\n",
    "        actual = lista.inicio.sig\n",
    "        while(actual is not None and actual.info != clave):\n",
    "            anterior = anterior.sig\n",
    "            actual = actual.sig\n",
    "        if(actual is not None):\n",
    "            dato = actual.info\n",
    "            anterior.sig = actual.sig\n",
    "            lista.tamanio -= 1\n",
    "    return dato\n",
    "    \n"
   ]
  },
  {
   "cell_type": "code",
   "execution_count": null,
   "metadata": {},
   "outputs": [],
   "source": [
    "def tamanio(lista):\n",
    "    #devuelve el numero de elementos en la lista\n",
    "    return lista.tamanio\n"
   ]
  },
  {
   "cell_type": "code",
   "execution_count": null,
   "metadata": {},
   "outputs": [],
   "source": [
    "def buscar(lista, buscado):\n",
    "    #devuelve la direccion del elemento buscado\n",
    "    aux = lista.inicio\n",
    "    while(aux is not None and aux.info != buscado):\n",
    "        aux = aux.sig\n",
    "    return aux"
   ]
  },
  {
   "cell_type": "code",
   "execution_count": null,
   "metadata": {},
   "outputs": [],
   "source": [
    "def barrido(lista):\n",
    "    #realiza un barrido de la lista mostrando sus valores\n",
    "    aux = lista.inicio\n",
    "    while(aux is not None):\n",
    "        print(aux.info)\n",
    "        aux = aux.sig"
   ]
  },
  {
   "cell_type": "code",
   "execution_count": null,
   "metadata": {},
   "outputs": [],
   "source": [
    "#Ejemplo de uso de lista\n",
    "lista = Lista()\n",
    "dato = input(\"Ingrese una palabra\")\n",
    "\n",
    "while(dato != ''):\n",
    "    insertar(lista,dato)\n",
    "    dato = input('Ingrese una palabra')\n",
    "buscado = input('Ingrese la palabra a buscar')\n",
    "posicion = buscar(lista,buscado)\n",
    "\n",
    "if(posicion is not None):\n",
    "    dato = eliminar(lista,posicion.info)\n",
    "    print('Elemento eliminado', dato)\n",
    "else:\n",
    "    print('No se encontro el elemento a elimianr')\n",
    "barrido(lista)"
   ]
  },
  {
   "cell_type": "code",
   "execution_count": null,
   "metadata": {},
   "outputs": [],
   "source": [
    "def criterio(dato,campo=None):\n",
    "    #determina el campo por el cual se debe comparar el dato\n",
    "    dic = {}\n",
    "    if(hasattr(dato,'__dict__')):\n",
    "        return dato\n",
    "    else:\n",
    "        return dic[campo]"
   ]
  },
  {
   "cell_type": "code",
   "execution_count": null,
   "metadata": {},
   "outputs": [],
   "source": [
    "def insertar(lista,dato,campo=None):\n",
    "    #insertar el dato pasado en la lista\n",
    "    nodo = nodoLista()\n",
    "    nodo.info = dato\n",
    "    if(lista.inicio is None) or (criterio(lista.inicio.info,campo)> criterio(dato,campo)):\n",
    "        nodo.sigg = lista.inicio\n",
    "        lista.inicio = nodo\n",
    "    else:\n",
    "        ant = lista.inicio\n",
    "        act = lista.inicio.sig\n",
    "        while(act is not None and criterio(act.info,campo)<criterio(dato,campo)):\n",
    "            ant = ant.sig\n",
    "            act = act.sig\n",
    "        nodo.sig = act\n",
    "        ant.sig = nodo\n",
    "    lista.tamanio += 1"
   ]
  },
  {
   "cell_type": "code",
   "execution_count": null,
   "metadata": {},
   "outputs": [],
   "source": [
    "def buscar(lista,buscado,campo=None):\n",
    "    #Devuelve la direccion del elemento buscado\n",
    "    aux = lista.inicio\n",
    "    while(aux is not None and criterio(aux.info,campo)!=criterio(buscado,campo)):\n",
    "        aux = aux.sig\n",
    "    return aux"
   ]
  },
  {
   "cell_type": "code",
   "execution_count": null,
   "metadata": {},
   "outputs": [],
   "source": [
    "def eliminar(lista,clave,campo=None):\n",
    "    #Elimina un elemento de la lista y la devuelve si lo encuentra\n",
    "    dato = None\n",
    "    if(criterio(lista.inicio.sig,campo)== criterio(clave,campo)):\n",
    "        dato = lista.inicio.sig\n",
    "        lista.tamanio -=1\n",
    "    else:\n",
    "        anterior = lista.inicio\n",
    "        actual = lista.inicio\n",
    "        while(actual is not None and criterio(actual.info,campo)!=criterio(clave,campo)):\n",
    "            anterior = anterior.sig\n",
    "            actual = actual.sig\n",
    "        if(actual is not None):\n",
    "            dato = actual.info\n",
    "            anterior.sig = actual.sig\n",
    "            lista.tamanio -=1\n",
    "    return dato"
   ]
  },
  {
   "cell_type": "code",
   "execution_count": null,
   "metadata": {},
   "outputs": [],
   "source": [
    "estaciones = Lista()\n",
    "dato = input('Inserte el nombre de la estacion')\n",
    "insertar(estaciones,dato)\n",
    "\n",
    "estacion = buscar(estaciones,dato)\n",
    "if(estacion is not None):\n",
    "    estado_clima = input('Cargar estado del clima:')\n",
    "    insertar(estacion.sublista,estado_clima)\n",
    "    \n",
    "buscado = input('Ingrese nombre de la estacion a listar: ')\n",
    "pos = buscar(estaciones,buscado)\n",
    "if(pos is not None):\n",
    "    barrido(pos.sublista)"
   ]
  }
 ],
 "metadata": {
  "interpreter": {
   "hash": "12e7b2db913c7cced4d5bf71ce365c438f2053887e824f813caa9208ccef4b13"
  },
  "kernelspec": {
   "display_name": "Python 3.8.8 64-bit ('base': conda)",
   "language": "python",
   "name": "python3"
  },
  "language_info": {
   "codemirror_mode": {
    "name": "ipython",
    "version": 3
   },
   "file_extension": ".py",
   "mimetype": "text/x-python",
   "name": "python",
   "nbconvert_exporter": "python",
   "pygments_lexer": "ipython3",
   "version": "3.8.8"
  },
  "orig_nbformat": 4
 },
 "nbformat": 4,
 "nbformat_minor": 2
}
