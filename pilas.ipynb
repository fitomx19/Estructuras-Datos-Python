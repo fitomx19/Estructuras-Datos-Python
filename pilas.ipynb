{
 "cells": [
  {
   "cell_type": "markdown",
   "metadata": {},
   "source": [
    "## Pilas"
   ]
  },
  {
   "cell_type": "markdown",
   "metadata": {},
   "source": [
    "Es la operacion de notacion big O n(0) dado que no imnporta cual sea el numero de elementos en la pila, dado que la misma operacion nos hace verlo como uno por uno hace que no se cargue tanto el software.\n",
    "\n",
    "    La operacion de pila puede verse como el modo de sacar de una pila de platos el de hasta abajo, para poder acceder a el debemos quitar los platos de encima para poder llegar hasta el"
   ]
  },
  {
   "cell_type": "markdown",
   "metadata": {},
   "source": []
  },
  {
   "cell_type": "code",
   "execution_count": 1,
   "metadata": {},
   "outputs": [],
   "source": [
    "class nodoPila(object):\n",
    "    #Clase pila\n",
    "    info, sig = None,None\n",
    "\n",
    "class Pila(object):\n",
    "    #Creamos una pila vacia\n",
    "    def __init__(self):\n",
    "        self.cima = None\n",
    "        self.tamanio = 0\n",
    "        "
   ]
  },
  {
   "cell_type": "code",
   "execution_count": 5,
   "metadata": {},
   "outputs": [],
   "source": [
    "def apilar(pila,dato):\n",
    "    nodo = nodoPila()\n",
    "    nodo.info = dato\n",
    "    nodo.sig = pila.cima\n",
    "    pila.cima = nodo\n",
    "    pila.tamanio += 1\n"
   ]
  },
  {
   "cell_type": "code",
   "execution_count": 9,
   "metadata": {},
   "outputs": [],
   "source": [
    "def despilar(pila):\n",
    "    x = pila.cima.info\n",
    "    pila.cima = pila.cima.sig\n",
    "    pila.tamanio -= 1\n",
    "    return x\n"
   ]
  },
  {
   "cell_type": "code",
   "execution_count": 10,
   "metadata": {},
   "outputs": [],
   "source": [
    "def pila_vacia(pila):\n",
    "    return pila.cima is None\n"
   ]
  },
  {
   "cell_type": "code",
   "execution_count": 11,
   "metadata": {},
   "outputs": [],
   "source": [
    "def en_cima(pila):\n",
    "    if pila.cima is not None:\n",
    "        return pila.cima.info\n",
    "    else:   \n",
    "        return None\n"
   ]
  },
  {
   "cell_type": "code",
   "execution_count": 12,
   "metadata": {},
   "outputs": [],
   "source": [
    "def tamanio(pila):\n",
    "    return pila,tamanio"
   ]
  },
  {
   "cell_type": "code",
   "execution_count": null,
   "metadata": {},
   "outputs": [],
   "source": [
    "def barrido(pila):\n",
    "    paux = Pila()\n",
    "    while(not pila_vacia(pila)):\n",
    "        dato = despilar(pila)\n",
    "        apilar(pila,dato)"
   ]
  },
  {
   "cell_type": "markdown",
   "metadata": {},
   "source": [
    "Ahora vamos a realizar un programa que separe en un lado las pilas enteras impares y en otro lado las pilas numeros pares"
   ]
  },
  {
   "cell_type": "code",
   "execution_count": 15,
   "metadata": {},
   "outputs": [
    {
     "name": "stdout",
     "output_type": "stream",
     "text": [
      "2\n",
      "4\n",
      "6\n",
      "8\n",
      "10\n",
      "1\n",
      "3\n",
      "5\n",
      "7\n",
      "9\n"
     ]
    }
   ],
   "source": [
    "#from tda_pila import Pila,apilar,despilar,pila_vacia\n",
    "pdatos = Pila()\n",
    "ppar = Pila()\n",
    "pimpar = Pila()\n",
    "\n",
    "dato = int(input('Ingrese un numero  - 0 para salir '))\n",
    "while (dato != 0 ):\n",
    "    apilar(pdatos,dato)\n",
    "    dato = int(input('Ingrese un numero - 0 para salir '))\n",
    "while(not pila_vacia(pdatos)):\n",
    "    dato = despilar(pdatos)\n",
    "    if(dato % 2 == 0):\n",
    "        apilar(ppar,dato)\n",
    "    else:\n",
    "        apilar(pimpar,dato)\n",
    "\n",
    "while(not pila_vacia(ppar)):\n",
    "    dato = despilar(ppar)\n",
    "    print(dato)\n",
    "while(not pila_vacia(pimpar)):\n",
    "    dato = despilar(pimpar)\n",
    "    print(dato)"
   ]
  }
 ],
 "metadata": {
  "interpreter": {
   "hash": "12e7b2db913c7cced4d5bf71ce365c438f2053887e824f813caa9208ccef4b13"
  },
  "kernelspec": {
   "display_name": "Python 3.8.8 64-bit ('base': conda)",
   "language": "python",
   "name": "python3"
  },
  "language_info": {
   "codemirror_mode": {
    "name": "ipython",
    "version": 3
   },
   "file_extension": ".py",
   "mimetype": "text/x-python",
   "name": "python",
   "nbconvert_exporter": "python",
   "pygments_lexer": "ipython3",
   "version": "3.8.8"
  },
  "orig_nbformat": 4
 },
 "nbformat": 4,
 "nbformat_minor": 2
}
