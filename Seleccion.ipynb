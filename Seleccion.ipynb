{
 "cells": [
  {
   "cell_type": "markdown",
   "metadata": {},
   "source": [
    "Algoritmo de seleccion \n"
   ]
  },
  {
   "cell_type": "code",
   "execution_count": 34,
   "metadata": {},
   "outputs": [],
   "source": [
    "    def seleccion(lista):\n",
    "            \n",
    "        for i in range (0, len(lista)-1):\n",
    "            minimo = i\n",
    "            for j in range(i+1, len(lista)):\n",
    "                if(lista[j] < lista[minimo]):\n",
    "                    minimo = j\n",
    "            lista[i], lista[minimo] = lista[minimo], lista[i]\n",
    "            print(lista)"
   ]
  },
  {
   "cell_type": "code",
   "execution_count": 35,
   "metadata": {},
   "outputs": [
    {
     "name": "stdout",
     "output_type": "stream",
     "text": [
      "[3, 11, 81, 7, 45]\n",
      "[3, 7, 81, 11, 45]\n",
      "[3, 7, 11, 81, 45]\n",
      "[3, 7, 11, 45, 81]\n"
     ]
    }
   ],
   "source": [
    "seleccion([11,3,81,7,45])"
   ]
  }
 ],
 "metadata": {
  "interpreter": {
   "hash": "12e7b2db913c7cced4d5bf71ce365c438f2053887e824f813caa9208ccef4b13"
  },
  "kernelspec": {
   "display_name": "Python 3.8.8 64-bit ('base': conda)",
   "name": "python3"
  },
  "language_info": {
   "codemirror_mode": {
    "name": "ipython",
    "version": 3
   },
   "file_extension": ".py",
   "mimetype": "text/x-python",
   "name": "python",
   "nbconvert_exporter": "python",
   "pygments_lexer": "ipython3",
   "version": "3.8.8"
  },
  "orig_nbformat": 4
 },
 "nbformat": 4,
 "nbformat_minor": 2
}
