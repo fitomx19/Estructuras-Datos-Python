{
 "cells": [
  {
   "cell_type": "markdown",
   "metadata": {},
   "source": [
    "##  Mapas para acceder rapidamente a los datos con tablas *Hash*"
   ]
  },
  {
   "cell_type": "markdown",
   "metadata": {},
   "source": [
    "### Funcion Bernstein"
   ]
  },
  {
   "cell_type": "code",
   "execution_count": 3,
   "metadata": {},
   "outputs": [],
   "source": [
    "\n",
    "def Berstein(cadena):\n",
    "    h = 0\n",
    "    i = 0\n",
    "    for caracter in cadena:\n",
    "        h = h * 33 + ord(caracter)\n",
    "        i+=1\n",
    "\n",
    "    return h"
   ]
  },
  {
   "cell_type": "code",
   "execution_count": 4,
   "metadata": {},
   "outputs": [],
   "source": [
    "def crear_tabla(tamanio):\n",
    "    #tabla hash vacia\n",
    "    tabla = [None] * tamanio\n",
    "    return tabla"
   ]
  },
  {
   "cell_type": "code",
   "execution_count": 5,
   "metadata": {},
   "outputs": [],
   "source": [
    "def cantidad_elementos(tabla):\n",
    "    #devuelve la cantidad de elementos de una tabla\n",
    "    return len(tabla) - tabla.count(None)"
   ]
  },
  {
   "cell_type": "code",
   "execution_count": 6,
   "metadata": {},
   "outputs": [],
   "source": [
    "def cantidad_elementos(tabla):\n",
    "    #Devuelve la cantidad de elementos de una tabla\n",
    "    return sum(tamanio(lista) for lista in tabla if lista is not None)"
   ]
  },
  {
   "cell_type": "code",
   "execution_count": 7,
   "metadata": {},
   "outputs": [],
   "source": [
    "def funcion_hash(dato, tamanio_tabla):\n",
    "    #determinar la posicion del dato de la tabla\n",
    "    #hash por division para este caso\n",
    "    return len(str(dato).strip()) % tamanio_tabla"
   ]
  },
  {
   "cell_type": "code",
   "execution_count": 8,
   "metadata": {},
   "outputs": [],
   "source": [
    "def agregar(tabla,dato):\n",
    "    #agrega un elemento a la tabla encadenada\n",
    "    posicion = funcion_hash(dato,len(tabla))\n",
    "    if(tabla[posicion] is None):\n",
    "        tabla[posicion] = Lista()\n",
    "    insertar(tabla[posicion],dato)"
   ]
  },
  {
   "cell_type": "code",
   "execution_count": 9,
   "metadata": {},
   "outputs": [],
   "source": [
    "def agregar(tabla,dato):\n",
    "    #Agrega un elemento a la tabla cerrada\n",
    "    posicion = funcion_hash(dato,len(tabla))\n",
    "    if(tabla[posicion] is None):\n",
    "        tabla[posicion] = dato\n",
    "    else:\n",
    "        print(\"Se produjo una colision\")\n",
    "        #ejecutar funcion de sondeo para reubicar elemento"
   ]
  },
  {
   "cell_type": "code",
   "execution_count": 10,
   "metadata": {},
   "outputs": [],
   "source": [
    "def buscar(tabla,buscado):\n",
    "    #determina si un elemento existe en la tabla y determina su posicion\n",
    "    pos = None\n",
    "    posicion = funcion_hash(buscado,len(tabla))\n",
    "    if(tabla[posicion] is not None):\n",
    "        pos = busqueda(tabla[posicion],buscado)\n",
    "    return pos"
   ]
  },
  {
   "cell_type": "code",
   "execution_count": 11,
   "metadata": {},
   "outputs": [],
   "source": [
    "def buscar(tabla,buscado):\n",
    "    #determina si un elemento existe una tabla y determina su posicion\n",
    "    pos = None\n",
    "    posicion = funcion_hash(buscado,len(tabla))\n",
    "    if(tabla[posicion] is not None):\n",
    "        if(buscado == tabla[posicion]):\n",
    "            pos = posicion\n",
    "        else:\n",
    "            print(\"aplicar metodo del sondeo\")\n",
    "            #para determinar si esta en otra posicion\n",
    "    return pos"
   ]
  },
  {
   "cell_type": "code",
   "execution_count": 12,
   "metadata": {},
   "outputs": [],
   "source": [
    "def quitar(tabla,dato):\n",
    "    #quita un elemento de la tabla encadenada si existe\n",
    "    dato = None\n",
    "    posicion = funcion_hash(dato,len(tabla))\n",
    "    if(tabla[posicion]is not None):\n",
    "        dato = eliminar(tabla[posicion])\n",
    "        if(lista_vacia(tabla[posicion])):\n",
    "            tabla[posicion] = None\n",
    "    return dato"
   ]
  },
  {
   "cell_type": "code",
   "execution_count": 13,
   "metadata": {},
   "outputs": [],
   "source": [
    "def quitar(tabla,dato):\n",
    "    dato = None\n",
    "    posicion = funcion_hash(dato,len(tabla))\n",
    "    if(tabla[posicion] is not None):\n",
    "        if(dato == tabla[posicion]):\n",
    "            dato = tabla[posicion]\n",
    "            tabla[posicion] = None\n",
    "        else:\n",
    "            print(\"aplicar funcion de sondeo\")\n",
    "    return dato"
   ]
  },
  {
   "cell_type": "code",
   "execution_count": 14,
   "metadata": {},
   "outputs": [
    {
     "name": "stdout",
     "output_type": "stream",
     "text": [
      "Se produjo una colision\n",
      "elemento encontrado 6\n"
     ]
    }
   ],
   "source": [
    "tabla = crear_tabla(9)\n",
    "nombre = input('ingrese nombre')\n",
    "while(nombre != ''):\n",
    "    agregar(tabla,nombre)\n",
    "    nombre = input('ingrese nombre')\n",
    "\n",
    "buscado = input('ingrese el nombre a buscar')\n",
    "posicion = buscar(tabla,buscado)\n",
    "if(posicion is not None):\n",
    "    print('elemento encontrado', posicion)\n",
    "else:\n",
    "    print('no se encontro el elmento buscado')"
   ]
  }
 ],
 "metadata": {
  "interpreter": {
   "hash": "12e7b2db913c7cced4d5bf71ce365c438f2053887e824f813caa9208ccef4b13"
  },
  "kernelspec": {
   "display_name": "Python 3.8.8 64-bit ('base': conda)",
   "language": "python",
   "name": "python3"
  },
  "language_info": {
   "codemirror_mode": {
    "name": "ipython",
    "version": 3
   },
   "file_extension": ".py",
   "mimetype": "text/x-python",
   "name": "python",
   "nbconvert_exporter": "python",
   "pygments_lexer": "ipython3",
   "version": "3.8.9"
  },
  "orig_nbformat": 4
 },
 "nbformat": 4,
 "nbformat_minor": 2
}
