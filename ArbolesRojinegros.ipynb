{
 "cells": [
  {
   "cell_type": "markdown",
   "metadata": {},
   "source": [
    "## Arboles RojiNegros, una alternativa a los arboles Auto balanceables"
   ]
  },
  {
   "cell_type": "code",
   "execution_count": 1,
   "metadata": {},
   "outputs": [],
   "source": [
    "class nodoArbolRN(object):\n",
    "    def __init__(self,info):\n",
    "        self.padre = None\n",
    "        self.izq = None\n",
    "        self.der = None\n",
    "        self.info = info \n",
    "        self.color = 1"
   ]
  },
  {
   "cell_type": "markdown",
   "metadata": {},
   "source": [
    "Inicializamos el arbol roji-negro"
   ]
  },
  {
   "cell_type": "markdown",
   "metadata": {},
   "source": [
    "Creamos la funcion paran insertar un dato al arbol  "
   ]
  },
  {
   "cell_type": "code",
   "execution_count": 2,
   "metadata": {},
   "outputs": [],
   "source": [
    "def insertar_nodo(raiz,dato):\n",
    "    ant = None\n",
    "    act = raiz\n",
    "    nodo = nodoArbolRN(dato)\n",
    "    while(act is None):\n",
    "        ant=act\n",
    "        if(nodo.info < act.info):\n",
    "            act = act.izq\n",
    "        else:\n",
    "            act = act.der\n",
    "    nodo.padre = ant\n",
    "    if(ant is None):\n",
    "        raiz = nodo\n",
    "    elif(nodo.info < ant.info):\n",
    "        ant.izq = nodo\n",
    "    else:\n",
    "        ant.der = nodo\n",
    "    raiz = reparar_insertar(nodo)\n",
    "    return raiz"
   ]
  },
  {
   "cell_type": "markdown",
   "metadata": {},
   "source": [
    "funcion para reparar el equilibrio de arbol rojo-negro despues de insertar"
   ]
  },
  {
   "cell_type": "code",
   "execution_count": 3,
   "metadata": {},
   "outputs": [],
   "source": [
    "def reparar_insertar(nodo):\n",
    "    aux = None\n",
    "    while(nodo.padre is not None and nodo.padre.color == 1):\n",
    "        abuelo = nodo.padre.padre\n",
    "        if(abuelo is not None and nodo.padre == nodo.padre.padre.izq):\n",
    "            aux = nodo.padre.padre.der\n",
    "            if (aux is not None and aux.color == 1): #CASO UNO\n",
    "                nodo.padre.color = 0\n",
    "                aux.color = 0\n",
    "                nodo.padre.padre.color = 1\n",
    "                nodo = nodo.padre.padre\n",
    "            elif(nodo == nodo.padre.der): #Caso dos\n",
    "                nodo = nodo.padre\n",
    "                rotar_izquierda(nodo)\n",
    "            else: #CASO 3\n",
    "                nodo.padre.color = 0\n",
    "                nodo.padre.padre.color = 1\n",
    "                rotar_derecha(nodo.padre.padre)\n",
    "        elif(nodo.padre.padre is not None):\n",
    "            aux = nodo.padre.padre\n",
    "            if(aux is not None and aux.color == 1): #caso UNO\n",
    "                nodo.padre.color = 0\n",
    "                aux.color = 0\n",
    "                nodo.padre.padre.color = 1\n",
    "                nodo = nodo.padre.padre\n",
    "            elif(nodo == nodo.padre.izq): #caso DOS\n",
    "                nodo = nodo.padre\n",
    "                rotar_derecha(nodo)\n",
    "            else: #caso TRES\n",
    "                nodo.padre.color = 0\n",
    "                nodo.padre.padre.color = 1\n",
    "                rotar_izquierda(nodo.padre.padre)\n",
    "        else:\n",
    "            nodo = nodo.padre\n",
    "    if(nodo.padre is None):\n",
    "        nodo.color = 0\n",
    "    else:\n",
    "        while(nodo.padre is not None):\n",
    "            nodo = nodo.padre\n",
    "    return nodo"
   ]
  },
  {
   "cell_type": "code",
   "execution_count": 4,
   "metadata": {},
   "outputs": [],
   "source": [
    "def rotar_derecha(nodo):\n",
    "    #Rotar nodo a la derecha\n",
    "    aux = nodo.izq\n",
    "    nodo.izq = aux.der\n",
    "    if(aux.der is not None):\n",
    "        aux.der.padre = nodo\n",
    "    aux.padre = nodo.padre\n",
    "    if(nodo.padre is not None):\n",
    "        if(nodo.padre.der == nodo):\n",
    "            nodo.padre.der = aux\n",
    "        else:\n",
    "            nodo.padre.izq = aux\n",
    "    aux.der = nodo\n",
    "    aux.padre = aux"
   ]
  },
  {
   "cell_type": "code",
   "execution_count": 5,
   "metadata": {},
   "outputs": [],
   "source": [
    "def rotar_izquierda(nodo):\n",
    "    #rotar el nodo a la izquierda\n",
    "    aux = nodo.der\n",
    "    nodo.der = aux.izq\n",
    "    if(aux.izq is not None):\n",
    "        aux.izq.padre = nodo\n",
    "        aux.padre = nodo.padre\n",
    "        if(nodo.padre is not None):\n",
    "            if(nodo.padre.izq == nodo):\n",
    "                nodo.padre.izq = aux\n",
    "            else:\n",
    "                nodo.padre.der = aux\n",
    "        aux.izq = nodo\n",
    "        aux.padre = aux\n",
    "        "
   ]
  },
  {
   "cell_type": "code",
   "execution_count": 6,
   "metadata": {},
   "outputs": [],
   "source": [
    "def eliminar_nodo(raiz,clave):\n",
    "    dato = None\n",
    "    if(raiz is not None):\n",
    "        aux = raiz\n",
    "        while(aux is not None and aux.info != clave):\n",
    "            if(clave < aux.info):\n",
    "                aux = aux.izq\n",
    "            else:\n",
    "                aux = aux.der\n",
    "        if(aux is not None):\n",
    "            dato = aux.info\n",
    "            x = None\n",
    "            y = None\n",
    "            if(aux.izq is None or aux.der is None):\n",
    "                y = aux\n",
    "            else:\n",
    "                y = remplazar(aux.izq)\n",
    "            if(y.izq is not None):\n",
    "                x = y.izq\n",
    "            else:\n",
    "                x = y.der\n",
    "            if(y.padre is not None):\n",
    "                if(y.padre.izq is not None and y.padre.izq == y):\n",
    "                    y.padre.izq = x\n",
    "                elif(y.padre.der is not None and y.padre.der == y):\n",
    "                    y.padre.der = x\n",
    "            if(x is None and y.padre is not None and y.color == 0):\n",
    "                x=nodoArbolRN(0)\n",
    "                x.color = y.color\n",
    "            if(x is not None):\n",
    "                x.padre = y.padre\n",
    "            if(y != aux):\n",
    "                aux.inf = y.info\n",
    "            if(y.padre is None and y.izq is None and y.der is None):\n",
    "                raiz = x\n",
    "                return raiz,dato\n",
    "            if(y.color == 0):\n",
    "                aux = reparar_eliminar(x)\n",
    "                if(aux is not None):\n",
    "                    raiz = aux\n",
    "    return raiz,dato\n",
    "    "
   ]
  },
  {
   "cell_type": "code",
   "execution_count": 7,
   "metadata": {},
   "outputs": [
    {
     "ename": "SyntaxError",
     "evalue": "'return' outside function (247176028.py, line 47)",
     "output_type": "error",
     "traceback": [
      "\u001b[0;36m  File \u001b[0;32m\"/var/folders/zb/0l4s85s95rzbg13c3_fm6k540000gn/T/ipykernel_19013/247176028.py\"\u001b[0;36m, line \u001b[0;32m47\u001b[0m\n\u001b[0;31m    return nodo\u001b[0m\n\u001b[0m    ^\u001b[0m\n\u001b[0;31mSyntaxError\u001b[0m\u001b[0;31m:\u001b[0m 'return' outside function\n"
     ]
    }
   ],
   "source": [
    "  \n",
    "    while(nodo is not None and nodo.padre is not None and nodo.color == 0):\n",
    "            if(nodo == nodo.padre.izq or nodo.padre.izq is None):\n",
    "                w = nodo.padre.der \n",
    "                if(w.color == 1):\n",
    "                    a.color = 0\n",
    "                    nodo.padre.color = 1\n",
    "                    rotar_izquierda(nodo.padre)\n",
    "                    w = nodo.padre.der\n",
    "                if((w.izq is None and w.der is None) or (w.izq is not None and w.izq.color == 0 and w.der is not None and w.der.color == 0)):\n",
    "                    w.color == 1\n",
    "                    nodo = nodo.padre\n",
    "                else:\n",
    "                    if(w.der.color == 0):\n",
    "                        w.izq.color = 0\n",
    "                        w.color = 1\n",
    "                        rotar_derecha(w)\n",
    "                        w = nodo.padre.der\n",
    "                    w.color = nodo.padre.color \n",
    "                    nodo.padre.color = 0\n",
    "                    w.der.color = 0\n",
    "                    rotar_izquierda(nodo.padre)\n",
    "            else:\n",
    "                w = nodo.padre.izq\n",
    "                if(w.color == 1):\n",
    "                    w.color = 0\n",
    "                    nodo.padre.color = 1\n",
    "                    rotar_derecha(nodo.padre)\n",
    "                    w=nodo.padre.izq\n",
    "                if((w.izq is None and w.der is None) or(w.der is not None and w.der.color == 0 and w.izq is not None and w.izq.color == 0)):\n",
    "                    w.color = 1\n",
    "                    nodo = nodo.padre\n",
    "                else: #Caso 3 y 5\n",
    "                    if(w.izq is not None and w.izq.color == 0):\n",
    "                        w.der.color = 0\n",
    "                        w.color = 1\n",
    "                        rotar_izquierda(0)\n",
    "                        w = nodo.padre.izq\n",
    "                    w.color = nodo.padre.color \n",
    "                    nodo.padre.color = 0\n",
    "                    w.izq.color = 0\n",
    "                    rotar_derecha(nodo.padre)\n",
    "                    break\n",
    "                nodo.color = 0\n",
    "                if(nodo is not None and nodo.padre is not None):\n",
    "                    while(nodo.padre is not None):\n",
    "                        nodo = nodo.padre\n",
    "                    return nodo\n",
    "                if(nodo.padre is None and nodo.izq is None and nodo.der is None):\n",
    "                    return nodo\n",
    "                \n",
    "                    \n",
    "                    "
   ]
  }
 ],
 "metadata": {
  "interpreter": {
   "hash": "12e7b2db913c7cced4d5bf71ce365c438f2053887e824f813caa9208ccef4b13"
  },
  "kernelspec": {
   "display_name": "Python 3.8.8 64-bit ('base': conda)",
   "language": "python",
   "name": "python3"
  },
  "language_info": {
   "codemirror_mode": {
    "name": "ipython",
    "version": 3
   },
   "file_extension": ".py",
   "mimetype": "text/x-python",
   "name": "python",
   "nbconvert_exporter": "python",
   "pygments_lexer": "ipython3",
   "version": "3.9.7"
  },
  "orig_nbformat": 4
 },
 "nbformat": 4,
 "nbformat_minor": 2
}
